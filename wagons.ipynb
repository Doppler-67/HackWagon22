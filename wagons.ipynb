{
  "nbformat": 4,
  "nbformat_minor": 0,
  "metadata": {
    "colab": {
      "provenance": [],
      "mount_file_id": "1L2xpuRrunCqyeOiIe6Ev6lsGs7av6I8b",
      "authorship_tag": "ABX9TyMmwKS2ufBy1KDSxa3pum3F",
      "include_colab_link": true
    },
    "kernelspec": {
      "name": "python3",
      "display_name": "Python 3"
    },
    "language_info": {
      "name": "python"
    },
    "accelerator": "GPU",
    "gpuClass": "standard"
  },
  "cells": [
    {
      "cell_type": "markdown",
      "metadata": {
        "id": "view-in-github",
        "colab_type": "text"
      },
      "source": [
        "<a href=\"https://colab.research.google.com/github/Doppler-67/HackWagon22/blob/main/wagons.ipynb\" target=\"_parent\"><img src=\"https://colab.research.google.com/assets/colab-badge.svg\" alt=\"Open In Colab\"/></a>"
      ]
    },
    {
      "cell_type": "markdown",
      "source": [
        "# **Importing libraries**"
      ],
      "metadata": {
        "id": "Ulik6rhhKN58"
      }
    },
    {
      "cell_type": "code",
      "execution_count": 1,
      "metadata": {
        "id": "KjopK4DUIpc5"
      },
      "outputs": [],
      "source": [
        "import pandas as pd\n",
        "import numpy as np\n",
        "import matplotlib.pyplot as plt\n",
        "import seaborn as sns\n",
        "import optuna\n",
        "import torch\n",
        "\n",
        "from sklearn.metrics import mean_squared_error\n",
        "from sklearn.model_selection import cross_val_score\n",
        "from xgboost import XGBRegressor"
      ]
    },
    {
      "cell_type": "code",
      "source": [
        "sns.set()"
      ],
      "metadata": {
        "id": "5npzhIIHJF9S"
      },
      "execution_count": 2,
      "outputs": []
    },
    {
      "cell_type": "code",
      "source": [
        "pd.set_option('display.max_columns', 100)"
      ],
      "metadata": {
        "id": "M5G72rwVs6_H"
      },
      "execution_count": 3,
      "outputs": []
    },
    {
      "cell_type": "code",
      "source": [
        "xgb_device = \"gpu_hist\" if torch.cuda.is_available() else \"hist\"\n",
        "xgb_device"
      ],
      "metadata": {
        "colab": {
          "base_uri": "https://localhost:8080/",
          "height": 35
        },
        "id": "Uf9kKzpStDtv",
        "outputId": "61909d8c-db10-42ee-f6c2-23ee8e9ec825"
      },
      "execution_count": 4,
      "outputs": [
        {
          "output_type": "execute_result",
          "data": {
            "text/plain": [
              "'gpu_hist'"
            ],
            "application/vnd.google.colaboratory.intrinsic+json": {
              "type": "string"
            }
          },
          "metadata": {},
          "execution_count": 4
        }
      ]
    },
    {
      "cell_type": "markdown",
      "source": [
        "# **Data understanding**"
      ],
      "metadata": {
        "id": "cpeU68LyKh8S"
      }
    },
    {
      "cell_type": "code",
      "source": [
        "data = pd.read_parquet('/content/drive/MyDrive/hackwagon22/df_train.parquet')"
      ],
      "metadata": {
        "id": "XtJTn6p4JG9u"
      },
      "execution_count": 5,
      "outputs": []
    },
    {
      "cell_type": "code",
      "source": [
        "test = pd.read_parquet('/content/drive/MyDrive/hackwagon22/df_test.parquet')"
      ],
      "metadata": {
        "id": "MjA5IyBiM4yh"
      },
      "execution_count": 6,
      "outputs": []
    },
    {
      "cell_type": "code",
      "source": [
        "data.head()"
      ],
      "metadata": {
        "colab": {
          "base_uri": "https://localhost:8080/",
          "height": 0
        },
        "id": "z6ecgNd3JuAq",
        "outputId": "304dbfb1-0713-4a6f-e245-9b796fe7b02b"
      },
      "execution_count": 7,
      "outputs": [
        {
          "output_type": "execute_result",
          "data": {
            "text/plain": [
              "                       st_code_snd                        st_code_rsv  \\\n",
              "0       wagonwagonwagontutu:)wagon  wagondigitalnewyearrailway:)happy   \n",
              "1  railwaypgkhappyrailway:)railway  digitalhappynewyeardigital:)wagon   \n",
              "2       railwaytutupgkpgk:)digital         pgkdigitalrailway:):)happy   \n",
              "3  tuturailwaydigital2022:)digital       newyearnewyear20222022:)2022   \n",
              "4       railwaytutupgkpgk:)digital       pgkhappyrailwayhack:)railway   \n",
              "\n",
              "   date_depart_year  date_depart_month  date_depart_week  date_depart_day  \\\n",
              "0              2021                 11                45               12   \n",
              "1              2021                  4                15               17   \n",
              "2              2021                  5                17                2   \n",
              "3              2020                 11                47               17   \n",
              "4              2020                 12                52               25   \n",
              "\n",
              "   date_depart_hour   fr_id  route_type  is_load  rod  common_ch  vidsobst  \\\n",
              "0                14  3399.0         4.0        1    2       11.0     102.0   \n",
              "1                16  2261.0         3.0        0    8        9.0     111.0   \n",
              "2                 7  1089.0         3.0        1    8        9.0     111.0   \n",
              "3                11  2261.0         4.0        0    8      975.0     103.0   \n",
              "4                 5  1666.0         4.0        1    8        9.0     101.0   \n",
              "\n",
              "   distance  snd_org_id  rsv_org_id  snd_roadid  rsv_roadid  snd_dp_id  \\\n",
              "0     930.0        1098        5476          13          13         78   \n",
              "1      16.0        2974        6682          21          21        111   \n",
              "2     879.0        2082       10729           9           9         67   \n",
              "3    8569.0        2974       10571          28          28        115   \n",
              "4     656.0        2082        9225           9           9         67   \n",
              "\n",
              "   rsv_dp_id           y  \n",
              "0         75  185.200000  \n",
              "1        111    0.250000  \n",
              "2         23  109.133333  \n",
              "3        112  214.093056  \n",
              "4         16  104.100000  "
            ],
            "text/html": [
              "\n",
              "  <div id=\"df-cfabeee9-1f2f-4f9a-80aa-c94948335b39\">\n",
              "    <div class=\"colab-df-container\">\n",
              "      <div>\n",
              "<style scoped>\n",
              "    .dataframe tbody tr th:only-of-type {\n",
              "        vertical-align: middle;\n",
              "    }\n",
              "\n",
              "    .dataframe tbody tr th {\n",
              "        vertical-align: top;\n",
              "    }\n",
              "\n",
              "    .dataframe thead th {\n",
              "        text-align: right;\n",
              "    }\n",
              "</style>\n",
              "<table border=\"1\" class=\"dataframe\">\n",
              "  <thead>\n",
              "    <tr style=\"text-align: right;\">\n",
              "      <th></th>\n",
              "      <th>st_code_snd</th>\n",
              "      <th>st_code_rsv</th>\n",
              "      <th>date_depart_year</th>\n",
              "      <th>date_depart_month</th>\n",
              "      <th>date_depart_week</th>\n",
              "      <th>date_depart_day</th>\n",
              "      <th>date_depart_hour</th>\n",
              "      <th>fr_id</th>\n",
              "      <th>route_type</th>\n",
              "      <th>is_load</th>\n",
              "      <th>rod</th>\n",
              "      <th>common_ch</th>\n",
              "      <th>vidsobst</th>\n",
              "      <th>distance</th>\n",
              "      <th>snd_org_id</th>\n",
              "      <th>rsv_org_id</th>\n",
              "      <th>snd_roadid</th>\n",
              "      <th>rsv_roadid</th>\n",
              "      <th>snd_dp_id</th>\n",
              "      <th>rsv_dp_id</th>\n",
              "      <th>y</th>\n",
              "    </tr>\n",
              "  </thead>\n",
              "  <tbody>\n",
              "    <tr>\n",
              "      <th>0</th>\n",
              "      <td>wagonwagonwagontutu:)wagon</td>\n",
              "      <td>wagondigitalnewyearrailway:)happy</td>\n",
              "      <td>2021</td>\n",
              "      <td>11</td>\n",
              "      <td>45</td>\n",
              "      <td>12</td>\n",
              "      <td>14</td>\n",
              "      <td>3399.0</td>\n",
              "      <td>4.0</td>\n",
              "      <td>1</td>\n",
              "      <td>2</td>\n",
              "      <td>11.0</td>\n",
              "      <td>102.0</td>\n",
              "      <td>930.0</td>\n",
              "      <td>1098</td>\n",
              "      <td>5476</td>\n",
              "      <td>13</td>\n",
              "      <td>13</td>\n",
              "      <td>78</td>\n",
              "      <td>75</td>\n",
              "      <td>185.200000</td>\n",
              "    </tr>\n",
              "    <tr>\n",
              "      <th>1</th>\n",
              "      <td>railwaypgkhappyrailway:)railway</td>\n",
              "      <td>digitalhappynewyeardigital:)wagon</td>\n",
              "      <td>2021</td>\n",
              "      <td>4</td>\n",
              "      <td>15</td>\n",
              "      <td>17</td>\n",
              "      <td>16</td>\n",
              "      <td>2261.0</td>\n",
              "      <td>3.0</td>\n",
              "      <td>0</td>\n",
              "      <td>8</td>\n",
              "      <td>9.0</td>\n",
              "      <td>111.0</td>\n",
              "      <td>16.0</td>\n",
              "      <td>2974</td>\n",
              "      <td>6682</td>\n",
              "      <td>21</td>\n",
              "      <td>21</td>\n",
              "      <td>111</td>\n",
              "      <td>111</td>\n",
              "      <td>0.250000</td>\n",
              "    </tr>\n",
              "    <tr>\n",
              "      <th>2</th>\n",
              "      <td>railwaytutupgkpgk:)digital</td>\n",
              "      <td>pgkdigitalrailway:):)happy</td>\n",
              "      <td>2021</td>\n",
              "      <td>5</td>\n",
              "      <td>17</td>\n",
              "      <td>2</td>\n",
              "      <td>7</td>\n",
              "      <td>1089.0</td>\n",
              "      <td>3.0</td>\n",
              "      <td>1</td>\n",
              "      <td>8</td>\n",
              "      <td>9.0</td>\n",
              "      <td>111.0</td>\n",
              "      <td>879.0</td>\n",
              "      <td>2082</td>\n",
              "      <td>10729</td>\n",
              "      <td>9</td>\n",
              "      <td>9</td>\n",
              "      <td>67</td>\n",
              "      <td>23</td>\n",
              "      <td>109.133333</td>\n",
              "    </tr>\n",
              "    <tr>\n",
              "      <th>3</th>\n",
              "      <td>tuturailwaydigital2022:)digital</td>\n",
              "      <td>newyearnewyear20222022:)2022</td>\n",
              "      <td>2020</td>\n",
              "      <td>11</td>\n",
              "      <td>47</td>\n",
              "      <td>17</td>\n",
              "      <td>11</td>\n",
              "      <td>2261.0</td>\n",
              "      <td>4.0</td>\n",
              "      <td>0</td>\n",
              "      <td>8</td>\n",
              "      <td>975.0</td>\n",
              "      <td>103.0</td>\n",
              "      <td>8569.0</td>\n",
              "      <td>2974</td>\n",
              "      <td>10571</td>\n",
              "      <td>28</td>\n",
              "      <td>28</td>\n",
              "      <td>115</td>\n",
              "      <td>112</td>\n",
              "      <td>214.093056</td>\n",
              "    </tr>\n",
              "    <tr>\n",
              "      <th>4</th>\n",
              "      <td>railwaytutupgkpgk:)digital</td>\n",
              "      <td>pgkhappyrailwayhack:)railway</td>\n",
              "      <td>2020</td>\n",
              "      <td>12</td>\n",
              "      <td>52</td>\n",
              "      <td>25</td>\n",
              "      <td>5</td>\n",
              "      <td>1666.0</td>\n",
              "      <td>4.0</td>\n",
              "      <td>1</td>\n",
              "      <td>8</td>\n",
              "      <td>9.0</td>\n",
              "      <td>101.0</td>\n",
              "      <td>656.0</td>\n",
              "      <td>2082</td>\n",
              "      <td>9225</td>\n",
              "      <td>9</td>\n",
              "      <td>9</td>\n",
              "      <td>67</td>\n",
              "      <td>16</td>\n",
              "      <td>104.100000</td>\n",
              "    </tr>\n",
              "  </tbody>\n",
              "</table>\n",
              "</div>\n",
              "      <button class=\"colab-df-convert\" onclick=\"convertToInteractive('df-cfabeee9-1f2f-4f9a-80aa-c94948335b39')\"\n",
              "              title=\"Convert this dataframe to an interactive table.\"\n",
              "              style=\"display:none;\">\n",
              "        \n",
              "  <svg xmlns=\"http://www.w3.org/2000/svg\" height=\"24px\"viewBox=\"0 0 24 24\"\n",
              "       width=\"24px\">\n",
              "    <path d=\"M0 0h24v24H0V0z\" fill=\"none\"/>\n",
              "    <path d=\"M18.56 5.44l.94 2.06.94-2.06 2.06-.94-2.06-.94-.94-2.06-.94 2.06-2.06.94zm-11 1L8.5 8.5l.94-2.06 2.06-.94-2.06-.94L8.5 2.5l-.94 2.06-2.06.94zm10 10l.94 2.06.94-2.06 2.06-.94-2.06-.94-.94-2.06-.94 2.06-2.06.94z\"/><path d=\"M17.41 7.96l-1.37-1.37c-.4-.4-.92-.59-1.43-.59-.52 0-1.04.2-1.43.59L10.3 9.45l-7.72 7.72c-.78.78-.78 2.05 0 2.83L4 21.41c.39.39.9.59 1.41.59.51 0 1.02-.2 1.41-.59l7.78-7.78 2.81-2.81c.8-.78.8-2.07 0-2.86zM5.41 20L4 18.59l7.72-7.72 1.47 1.35L5.41 20z\"/>\n",
              "  </svg>\n",
              "      </button>\n",
              "      \n",
              "  <style>\n",
              "    .colab-df-container {\n",
              "      display:flex;\n",
              "      flex-wrap:wrap;\n",
              "      gap: 12px;\n",
              "    }\n",
              "\n",
              "    .colab-df-convert {\n",
              "      background-color: #E8F0FE;\n",
              "      border: none;\n",
              "      border-radius: 50%;\n",
              "      cursor: pointer;\n",
              "      display: none;\n",
              "      fill: #1967D2;\n",
              "      height: 32px;\n",
              "      padding: 0 0 0 0;\n",
              "      width: 32px;\n",
              "    }\n",
              "\n",
              "    .colab-df-convert:hover {\n",
              "      background-color: #E2EBFA;\n",
              "      box-shadow: 0px 1px 2px rgba(60, 64, 67, 0.3), 0px 1px 3px 1px rgba(60, 64, 67, 0.15);\n",
              "      fill: #174EA6;\n",
              "    }\n",
              "\n",
              "    [theme=dark] .colab-df-convert {\n",
              "      background-color: #3B4455;\n",
              "      fill: #D2E3FC;\n",
              "    }\n",
              "\n",
              "    [theme=dark] .colab-df-convert:hover {\n",
              "      background-color: #434B5C;\n",
              "      box-shadow: 0px 1px 3px 1px rgba(0, 0, 0, 0.15);\n",
              "      filter: drop-shadow(0px 1px 2px rgba(0, 0, 0, 0.3));\n",
              "      fill: #FFFFFF;\n",
              "    }\n",
              "  </style>\n",
              "\n",
              "      <script>\n",
              "        const buttonEl =\n",
              "          document.querySelector('#df-cfabeee9-1f2f-4f9a-80aa-c94948335b39 button.colab-df-convert');\n",
              "        buttonEl.style.display =\n",
              "          google.colab.kernel.accessAllowed ? 'block' : 'none';\n",
              "\n",
              "        async function convertToInteractive(key) {\n",
              "          const element = document.querySelector('#df-cfabeee9-1f2f-4f9a-80aa-c94948335b39');\n",
              "          const dataTable =\n",
              "            await google.colab.kernel.invokeFunction('convertToInteractive',\n",
              "                                                     [key], {});\n",
              "          if (!dataTable) return;\n",
              "\n",
              "          const docLinkHtml = 'Like what you see? Visit the ' +\n",
              "            '<a target=\"_blank\" href=https://colab.research.google.com/notebooks/data_table.ipynb>data table notebook</a>'\n",
              "            + ' to learn more about interactive tables.';\n",
              "          element.innerHTML = '';\n",
              "          dataTable['output_type'] = 'display_data';\n",
              "          await google.colab.output.renderOutput(dataTable, element);\n",
              "          const docLink = document.createElement('div');\n",
              "          docLink.innerHTML = docLinkHtml;\n",
              "          element.appendChild(docLink);\n",
              "        }\n",
              "      </script>\n",
              "    </div>\n",
              "  </div>\n",
              "  "
            ]
          },
          "metadata": {},
          "execution_count": 7
        }
      ]
    },
    {
      "cell_type": "code",
      "source": [
        "test.head()"
      ],
      "metadata": {
        "colab": {
          "base_uri": "https://localhost:8080/",
          "height": 0
        },
        "id": "hbli3fV3NEje",
        "outputId": "64ca325f-2e21-4eb2-dc9b-4203b4aae8cf"
      },
      "execution_count": 8,
      "outputs": [
        {
          "output_type": "execute_result",
          "data": {
            "text/plain": [
              "                st_code_snd                 st_code_rsv  date_depart_year  \\\n",
              "0       happy:)pgkwagon:):)         pgk2022newyear:)pgk              2022   \n",
              "1  2022newyear:)newyear:):)     hacktutu:)newyear:)2022              2022   \n",
              "2     happyrailwaytutu:)pgk  newyeartutu:)hack:)newyear              2022   \n",
              "3   2022tuturailwayhack:):)     2022newyear:)happy:)pgk              2022   \n",
              "4     happyrailwaytutu:)pgk         pgk2022newyear:)pgk              2022   \n",
              "\n",
              "   date_depart_month  date_depart_week  date_depart_day  date_depart_hour  \\\n",
              "0                  9                35                1                 9   \n",
              "1                  8                34               22                14   \n",
              "2                  5                21               26                16   \n",
              "3                 11                44                4                 4   \n",
              "4                  5                20               17                 6   \n",
              "\n",
              "    fr_id  route_type  is_load  rod  common_ch  vidsobst  distance  \\\n",
              "0  2261.0         3.0        0    2       10.0     102.0    2930.0   \n",
              "1  1653.0         4.0        1    8        9.0     102.0    1728.0   \n",
              "2   643.0         3.0        1    8        9.0     102.0    4393.0   \n",
              "3  2261.0         4.0        0    8      975.0     111.0    1111.0   \n",
              "4  2261.0         3.0        0   15       40.0     111.0      19.0   \n",
              "\n",
              "   snd_org_id  rsv_org_id  snd_roadid  rsv_roadid  snd_dp_id  rsv_dp_id  \n",
              "0        2974        2847          28          28        134        125  \n",
              "1        2957        6340          18          18        102         16  \n",
              "2        1664        2128           0           0          1        124  \n",
              "3        2974        2468          32          32         29         31  \n",
              "4        2974        1098          29          29        117        117  "
            ],
            "text/html": [
              "\n",
              "  <div id=\"df-e333427b-c4f1-41cb-8a46-1283c4a15d0a\">\n",
              "    <div class=\"colab-df-container\">\n",
              "      <div>\n",
              "<style scoped>\n",
              "    .dataframe tbody tr th:only-of-type {\n",
              "        vertical-align: middle;\n",
              "    }\n",
              "\n",
              "    .dataframe tbody tr th {\n",
              "        vertical-align: top;\n",
              "    }\n",
              "\n",
              "    .dataframe thead th {\n",
              "        text-align: right;\n",
              "    }\n",
              "</style>\n",
              "<table border=\"1\" class=\"dataframe\">\n",
              "  <thead>\n",
              "    <tr style=\"text-align: right;\">\n",
              "      <th></th>\n",
              "      <th>st_code_snd</th>\n",
              "      <th>st_code_rsv</th>\n",
              "      <th>date_depart_year</th>\n",
              "      <th>date_depart_month</th>\n",
              "      <th>date_depart_week</th>\n",
              "      <th>date_depart_day</th>\n",
              "      <th>date_depart_hour</th>\n",
              "      <th>fr_id</th>\n",
              "      <th>route_type</th>\n",
              "      <th>is_load</th>\n",
              "      <th>rod</th>\n",
              "      <th>common_ch</th>\n",
              "      <th>vidsobst</th>\n",
              "      <th>distance</th>\n",
              "      <th>snd_org_id</th>\n",
              "      <th>rsv_org_id</th>\n",
              "      <th>snd_roadid</th>\n",
              "      <th>rsv_roadid</th>\n",
              "      <th>snd_dp_id</th>\n",
              "      <th>rsv_dp_id</th>\n",
              "    </tr>\n",
              "  </thead>\n",
              "  <tbody>\n",
              "    <tr>\n",
              "      <th>0</th>\n",
              "      <td>happy:)pgkwagon:):)</td>\n",
              "      <td>pgk2022newyear:)pgk</td>\n",
              "      <td>2022</td>\n",
              "      <td>9</td>\n",
              "      <td>35</td>\n",
              "      <td>1</td>\n",
              "      <td>9</td>\n",
              "      <td>2261.0</td>\n",
              "      <td>3.0</td>\n",
              "      <td>0</td>\n",
              "      <td>2</td>\n",
              "      <td>10.0</td>\n",
              "      <td>102.0</td>\n",
              "      <td>2930.0</td>\n",
              "      <td>2974</td>\n",
              "      <td>2847</td>\n",
              "      <td>28</td>\n",
              "      <td>28</td>\n",
              "      <td>134</td>\n",
              "      <td>125</td>\n",
              "    </tr>\n",
              "    <tr>\n",
              "      <th>1</th>\n",
              "      <td>2022newyear:)newyear:):)</td>\n",
              "      <td>hacktutu:)newyear:)2022</td>\n",
              "      <td>2022</td>\n",
              "      <td>8</td>\n",
              "      <td>34</td>\n",
              "      <td>22</td>\n",
              "      <td>14</td>\n",
              "      <td>1653.0</td>\n",
              "      <td>4.0</td>\n",
              "      <td>1</td>\n",
              "      <td>8</td>\n",
              "      <td>9.0</td>\n",
              "      <td>102.0</td>\n",
              "      <td>1728.0</td>\n",
              "      <td>2957</td>\n",
              "      <td>6340</td>\n",
              "      <td>18</td>\n",
              "      <td>18</td>\n",
              "      <td>102</td>\n",
              "      <td>16</td>\n",
              "    </tr>\n",
              "    <tr>\n",
              "      <th>2</th>\n",
              "      <td>happyrailwaytutu:)pgk</td>\n",
              "      <td>newyeartutu:)hack:)newyear</td>\n",
              "      <td>2022</td>\n",
              "      <td>5</td>\n",
              "      <td>21</td>\n",
              "      <td>26</td>\n",
              "      <td>16</td>\n",
              "      <td>643.0</td>\n",
              "      <td>3.0</td>\n",
              "      <td>1</td>\n",
              "      <td>8</td>\n",
              "      <td>9.0</td>\n",
              "      <td>102.0</td>\n",
              "      <td>4393.0</td>\n",
              "      <td>1664</td>\n",
              "      <td>2128</td>\n",
              "      <td>0</td>\n",
              "      <td>0</td>\n",
              "      <td>1</td>\n",
              "      <td>124</td>\n",
              "    </tr>\n",
              "    <tr>\n",
              "      <th>3</th>\n",
              "      <td>2022tuturailwayhack:):)</td>\n",
              "      <td>2022newyear:)happy:)pgk</td>\n",
              "      <td>2022</td>\n",
              "      <td>11</td>\n",
              "      <td>44</td>\n",
              "      <td>4</td>\n",
              "      <td>4</td>\n",
              "      <td>2261.0</td>\n",
              "      <td>4.0</td>\n",
              "      <td>0</td>\n",
              "      <td>8</td>\n",
              "      <td>975.0</td>\n",
              "      <td>111.0</td>\n",
              "      <td>1111.0</td>\n",
              "      <td>2974</td>\n",
              "      <td>2468</td>\n",
              "      <td>32</td>\n",
              "      <td>32</td>\n",
              "      <td>29</td>\n",
              "      <td>31</td>\n",
              "    </tr>\n",
              "    <tr>\n",
              "      <th>4</th>\n",
              "      <td>happyrailwaytutu:)pgk</td>\n",
              "      <td>pgk2022newyear:)pgk</td>\n",
              "      <td>2022</td>\n",
              "      <td>5</td>\n",
              "      <td>20</td>\n",
              "      <td>17</td>\n",
              "      <td>6</td>\n",
              "      <td>2261.0</td>\n",
              "      <td>3.0</td>\n",
              "      <td>0</td>\n",
              "      <td>15</td>\n",
              "      <td>40.0</td>\n",
              "      <td>111.0</td>\n",
              "      <td>19.0</td>\n",
              "      <td>2974</td>\n",
              "      <td>1098</td>\n",
              "      <td>29</td>\n",
              "      <td>29</td>\n",
              "      <td>117</td>\n",
              "      <td>117</td>\n",
              "    </tr>\n",
              "  </tbody>\n",
              "</table>\n",
              "</div>\n",
              "      <button class=\"colab-df-convert\" onclick=\"convertToInteractive('df-e333427b-c4f1-41cb-8a46-1283c4a15d0a')\"\n",
              "              title=\"Convert this dataframe to an interactive table.\"\n",
              "              style=\"display:none;\">\n",
              "        \n",
              "  <svg xmlns=\"http://www.w3.org/2000/svg\" height=\"24px\"viewBox=\"0 0 24 24\"\n",
              "       width=\"24px\">\n",
              "    <path d=\"M0 0h24v24H0V0z\" fill=\"none\"/>\n",
              "    <path d=\"M18.56 5.44l.94 2.06.94-2.06 2.06-.94-2.06-.94-.94-2.06-.94 2.06-2.06.94zm-11 1L8.5 8.5l.94-2.06 2.06-.94-2.06-.94L8.5 2.5l-.94 2.06-2.06.94zm10 10l.94 2.06.94-2.06 2.06-.94-2.06-.94-.94-2.06-.94 2.06-2.06.94z\"/><path d=\"M17.41 7.96l-1.37-1.37c-.4-.4-.92-.59-1.43-.59-.52 0-1.04.2-1.43.59L10.3 9.45l-7.72 7.72c-.78.78-.78 2.05 0 2.83L4 21.41c.39.39.9.59 1.41.59.51 0 1.02-.2 1.41-.59l7.78-7.78 2.81-2.81c.8-.78.8-2.07 0-2.86zM5.41 20L4 18.59l7.72-7.72 1.47 1.35L5.41 20z\"/>\n",
              "  </svg>\n",
              "      </button>\n",
              "      \n",
              "  <style>\n",
              "    .colab-df-container {\n",
              "      display:flex;\n",
              "      flex-wrap:wrap;\n",
              "      gap: 12px;\n",
              "    }\n",
              "\n",
              "    .colab-df-convert {\n",
              "      background-color: #E8F0FE;\n",
              "      border: none;\n",
              "      border-radius: 50%;\n",
              "      cursor: pointer;\n",
              "      display: none;\n",
              "      fill: #1967D2;\n",
              "      height: 32px;\n",
              "      padding: 0 0 0 0;\n",
              "      width: 32px;\n",
              "    }\n",
              "\n",
              "    .colab-df-convert:hover {\n",
              "      background-color: #E2EBFA;\n",
              "      box-shadow: 0px 1px 2px rgba(60, 64, 67, 0.3), 0px 1px 3px 1px rgba(60, 64, 67, 0.15);\n",
              "      fill: #174EA6;\n",
              "    }\n",
              "\n",
              "    [theme=dark] .colab-df-convert {\n",
              "      background-color: #3B4455;\n",
              "      fill: #D2E3FC;\n",
              "    }\n",
              "\n",
              "    [theme=dark] .colab-df-convert:hover {\n",
              "      background-color: #434B5C;\n",
              "      box-shadow: 0px 1px 3px 1px rgba(0, 0, 0, 0.15);\n",
              "      filter: drop-shadow(0px 1px 2px rgba(0, 0, 0, 0.3));\n",
              "      fill: #FFFFFF;\n",
              "    }\n",
              "  </style>\n",
              "\n",
              "      <script>\n",
              "        const buttonEl =\n",
              "          document.querySelector('#df-e333427b-c4f1-41cb-8a46-1283c4a15d0a button.colab-df-convert');\n",
              "        buttonEl.style.display =\n",
              "          google.colab.kernel.accessAllowed ? 'block' : 'none';\n",
              "\n",
              "        async function convertToInteractive(key) {\n",
              "          const element = document.querySelector('#df-e333427b-c4f1-41cb-8a46-1283c4a15d0a');\n",
              "          const dataTable =\n",
              "            await google.colab.kernel.invokeFunction('convertToInteractive',\n",
              "                                                     [key], {});\n",
              "          if (!dataTable) return;\n",
              "\n",
              "          const docLinkHtml = 'Like what you see? Visit the ' +\n",
              "            '<a target=\"_blank\" href=https://colab.research.google.com/notebooks/data_table.ipynb>data table notebook</a>'\n",
              "            + ' to learn more about interactive tables.';\n",
              "          element.innerHTML = '';\n",
              "          dataTable['output_type'] = 'display_data';\n",
              "          await google.colab.output.renderOutput(dataTable, element);\n",
              "          const docLink = document.createElement('div');\n",
              "          docLink.innerHTML = docLinkHtml;\n",
              "          element.appendChild(docLink);\n",
              "        }\n",
              "      </script>\n",
              "    </div>\n",
              "  </div>\n",
              "  "
            ]
          },
          "metadata": {},
          "execution_count": 8
        }
      ]
    },
    {
      "cell_type": "code",
      "source": [
        "data.info()"
      ],
      "metadata": {
        "colab": {
          "base_uri": "https://localhost:8080/"
        },
        "id": "vgCuHjHmJx4X",
        "outputId": "1910a2c4-13ac-44dc-e62c-17c12cc7085e"
      },
      "execution_count": 9,
      "outputs": [
        {
          "output_type": "stream",
          "name": "stdout",
          "text": [
            "<class 'pandas.core.frame.DataFrame'>\n",
            "RangeIndex: 4219370 entries, 0 to 4219369\n",
            "Data columns (total 21 columns):\n",
            " #   Column             Dtype  \n",
            "---  ------             -----  \n",
            " 0   st_code_snd        object \n",
            " 1   st_code_rsv        object \n",
            " 2   date_depart_year   int64  \n",
            " 3   date_depart_month  int64  \n",
            " 4   date_depart_week   int64  \n",
            " 5   date_depart_day    int64  \n",
            " 6   date_depart_hour   int64  \n",
            " 7   fr_id              float64\n",
            " 8   route_type         float64\n",
            " 9   is_load            int64  \n",
            " 10  rod                int64  \n",
            " 11  common_ch          float64\n",
            " 12  vidsobst           float64\n",
            " 13  distance           float64\n",
            " 14  snd_org_id         int64  \n",
            " 15  rsv_org_id         int64  \n",
            " 16  snd_roadid         int32  \n",
            " 17  rsv_roadid         int32  \n",
            " 18  snd_dp_id          int64  \n",
            " 19  rsv_dp_id          int64  \n",
            " 20  y                  float64\n",
            "dtypes: float64(6), int32(2), int64(11), object(2)\n",
            "memory usage: 643.8+ MB\n"
          ]
        }
      ]
    },
    {
      "cell_type": "code",
      "source": [
        "test.info()"
      ],
      "metadata": {
        "colab": {
          "base_uri": "https://localhost:8080/"
        },
        "id": "qnPRHHaFNIZ5",
        "outputId": "f924b229-30f5-483e-aa4b-f6f7a436f65f"
      },
      "execution_count": 10,
      "outputs": [
        {
          "output_type": "stream",
          "name": "stdout",
          "text": [
            "<class 'pandas.core.frame.DataFrame'>\n",
            "RangeIndex: 1182903 entries, 0 to 1182902\n",
            "Data columns (total 20 columns):\n",
            " #   Column             Non-Null Count    Dtype  \n",
            "---  ------             --------------    -----  \n",
            " 0   st_code_snd        1182903 non-null  object \n",
            " 1   st_code_rsv        1182903 non-null  object \n",
            " 2   date_depart_year   1182903 non-null  int64  \n",
            " 3   date_depart_month  1182903 non-null  int64  \n",
            " 4   date_depart_week   1182903 non-null  int64  \n",
            " 5   date_depart_day    1182903 non-null  int64  \n",
            " 6   date_depart_hour   1182903 non-null  int64  \n",
            " 7   fr_id              1182857 non-null  float64\n",
            " 8   route_type         1182903 non-null  float64\n",
            " 9   is_load            1182903 non-null  int64  \n",
            " 10  rod                1182903 non-null  int64  \n",
            " 11  common_ch          1143831 non-null  float64\n",
            " 12  vidsobst           1165775 non-null  float64\n",
            " 13  distance           1170936 non-null  float64\n",
            " 14  snd_org_id         1182903 non-null  int64  \n",
            " 15  rsv_org_id         1182903 non-null  int64  \n",
            " 16  snd_roadid         1182903 non-null  int32  \n",
            " 17  rsv_roadid         1182903 non-null  int32  \n",
            " 18  snd_dp_id          1182903 non-null  int64  \n",
            " 19  rsv_dp_id          1182903 non-null  int64  \n",
            "dtypes: float64(5), int32(2), int64(11), object(2)\n",
            "memory usage: 171.5+ MB\n"
          ]
        }
      ]
    },
    {
      "cell_type": "code",
      "source": [
        "data.isna().sum()"
      ],
      "metadata": {
        "colab": {
          "base_uri": "https://localhost:8080/"
        },
        "id": "-fDPchN0J0Sy",
        "outputId": "b1c8134c-6710-4fe3-cc00-0ead7bbf25f7"
      },
      "execution_count": 11,
      "outputs": [
        {
          "output_type": "execute_result",
          "data": {
            "text/plain": [
              "st_code_snd               0\n",
              "st_code_rsv               0\n",
              "date_depart_year          0\n",
              "date_depart_month         0\n",
              "date_depart_week          0\n",
              "date_depart_day           0\n",
              "date_depart_hour          0\n",
              "fr_id                   377\n",
              "route_type             3430\n",
              "is_load                   0\n",
              "rod                       0\n",
              "common_ch            103842\n",
              "vidsobst             103917\n",
              "distance              38771\n",
              "snd_org_id                0\n",
              "rsv_org_id                0\n",
              "snd_roadid                0\n",
              "rsv_roadid                0\n",
              "snd_dp_id                 0\n",
              "rsv_dp_id                 0\n",
              "y                         0\n",
              "dtype: int64"
            ]
          },
          "metadata": {},
          "execution_count": 11
        }
      ]
    },
    {
      "cell_type": "code",
      "source": [
        "test.isna().sum()"
      ],
      "metadata": {
        "colab": {
          "base_uri": "https://localhost:8080/"
        },
        "id": "VUU687xvNKSZ",
        "outputId": "f37e2100-84ca-4662-c646-7c6ba225fb4e"
      },
      "execution_count": 12,
      "outputs": [
        {
          "output_type": "execute_result",
          "data": {
            "text/plain": [
              "st_code_snd              0\n",
              "st_code_rsv              0\n",
              "date_depart_year         0\n",
              "date_depart_month        0\n",
              "date_depart_week         0\n",
              "date_depart_day          0\n",
              "date_depart_hour         0\n",
              "fr_id                   46\n",
              "route_type               0\n",
              "is_load                  0\n",
              "rod                      0\n",
              "common_ch            39072\n",
              "vidsobst             17128\n",
              "distance             11967\n",
              "snd_org_id               0\n",
              "rsv_org_id               0\n",
              "snd_roadid               0\n",
              "rsv_roadid               0\n",
              "snd_dp_id                0\n",
              "rsv_dp_id                0\n",
              "dtype: int64"
            ]
          },
          "metadata": {},
          "execution_count": 12
        }
      ]
    },
    {
      "cell_type": "markdown",
      "source": [
        "Доступно 4.22 млн. строк данных для обучения. Есть пропуски в фитчах: fr_id, route_type, common_ch, vidsobst, distance."
      ],
      "metadata": {
        "id": "EWeMhEu9K3R_"
      }
    },
    {
      "cell_type": "markdown",
      "source": [
        "В тестовой выборке доступно 1.18 млн. строк. Есть пропуски в фитчах: fr_id, common_ch, vidsobst, distance."
      ],
      "metadata": {
        "id": "TNc4f2x1NSIh"
      }
    },
    {
      "cell_type": "markdown",
      "source": [
        "# **Data preparation**"
      ],
      "metadata": {
        "id": "9mqi-hAWLNSm"
      }
    },
    {
      "cell_type": "code",
      "source": [
        "data['date_depart_year'].value_counts()"
      ],
      "metadata": {
        "colab": {
          "base_uri": "https://localhost:8080/"
        },
        "id": "AMbq0vJhLR-V",
        "outputId": "0e626ced-4627-4839-b461-2c1afd6d80a6"
      },
      "execution_count": 13,
      "outputs": [
        {
          "output_type": "execute_result",
          "data": {
            "text/plain": [
              "2021    2346093\n",
              "2020    1140600\n",
              "2022     725173\n",
              "2019       7504\n",
              "Name: date_depart_year, dtype: int64"
            ]
          },
          "metadata": {},
          "execution_count": 13
        }
      ]
    },
    {
      "cell_type": "code",
      "source": [
        "data.groupby('date_depart_year')['y'].describe()"
      ],
      "metadata": {
        "colab": {
          "base_uri": "https://localhost:8080/",
          "height": 0
        },
        "id": "H0o8NUniPI3C",
        "outputId": "5fc5781b-6dc8-4b23-a6cd-36b60a368a08"
      },
      "execution_count": 14,
      "outputs": [
        {
          "output_type": "execute_result",
          "data": {
            "text/plain": [
              "                      count        mean         std       min        25%  \\\n",
              "date_depart_year                                                           \n",
              "2019                 7504.0  235.805877  681.723065  0.066667  61.833333   \n",
              "2020              1140600.0  105.889101  126.112025  0.000000  34.500000   \n",
              "2021              2346093.0  102.928504  115.833900  0.000000  20.150000   \n",
              "2022               725173.0  116.249268  137.634744  0.000000  22.233333   \n",
              "\n",
              "                         50%         75%           max  \n",
              "date_depart_year                                        \n",
              "2019              109.425000  174.358333  10936.768056  \n",
              "2020               78.933333  143.433333   9519.000000  \n",
              "2021               73.283333  147.933333   7853.930000  \n",
              "2022               78.750000  164.965833   4605.850000  "
            ],
            "text/html": [
              "\n",
              "  <div id=\"df-170da00d-fce3-4b91-b620-700456a22ab7\">\n",
              "    <div class=\"colab-df-container\">\n",
              "      <div>\n",
              "<style scoped>\n",
              "    .dataframe tbody tr th:only-of-type {\n",
              "        vertical-align: middle;\n",
              "    }\n",
              "\n",
              "    .dataframe tbody tr th {\n",
              "        vertical-align: top;\n",
              "    }\n",
              "\n",
              "    .dataframe thead th {\n",
              "        text-align: right;\n",
              "    }\n",
              "</style>\n",
              "<table border=\"1\" class=\"dataframe\">\n",
              "  <thead>\n",
              "    <tr style=\"text-align: right;\">\n",
              "      <th></th>\n",
              "      <th>count</th>\n",
              "      <th>mean</th>\n",
              "      <th>std</th>\n",
              "      <th>min</th>\n",
              "      <th>25%</th>\n",
              "      <th>50%</th>\n",
              "      <th>75%</th>\n",
              "      <th>max</th>\n",
              "    </tr>\n",
              "    <tr>\n",
              "      <th>date_depart_year</th>\n",
              "      <th></th>\n",
              "      <th></th>\n",
              "      <th></th>\n",
              "      <th></th>\n",
              "      <th></th>\n",
              "      <th></th>\n",
              "      <th></th>\n",
              "      <th></th>\n",
              "    </tr>\n",
              "  </thead>\n",
              "  <tbody>\n",
              "    <tr>\n",
              "      <th>2019</th>\n",
              "      <td>7504.0</td>\n",
              "      <td>235.805877</td>\n",
              "      <td>681.723065</td>\n",
              "      <td>0.066667</td>\n",
              "      <td>61.833333</td>\n",
              "      <td>109.425000</td>\n",
              "      <td>174.358333</td>\n",
              "      <td>10936.768056</td>\n",
              "    </tr>\n",
              "    <tr>\n",
              "      <th>2020</th>\n",
              "      <td>1140600.0</td>\n",
              "      <td>105.889101</td>\n",
              "      <td>126.112025</td>\n",
              "      <td>0.000000</td>\n",
              "      <td>34.500000</td>\n",
              "      <td>78.933333</td>\n",
              "      <td>143.433333</td>\n",
              "      <td>9519.000000</td>\n",
              "    </tr>\n",
              "    <tr>\n",
              "      <th>2021</th>\n",
              "      <td>2346093.0</td>\n",
              "      <td>102.928504</td>\n",
              "      <td>115.833900</td>\n",
              "      <td>0.000000</td>\n",
              "      <td>20.150000</td>\n",
              "      <td>73.283333</td>\n",
              "      <td>147.933333</td>\n",
              "      <td>7853.930000</td>\n",
              "    </tr>\n",
              "    <tr>\n",
              "      <th>2022</th>\n",
              "      <td>725173.0</td>\n",
              "      <td>116.249268</td>\n",
              "      <td>137.634744</td>\n",
              "      <td>0.000000</td>\n",
              "      <td>22.233333</td>\n",
              "      <td>78.750000</td>\n",
              "      <td>164.965833</td>\n",
              "      <td>4605.850000</td>\n",
              "    </tr>\n",
              "  </tbody>\n",
              "</table>\n",
              "</div>\n",
              "      <button class=\"colab-df-convert\" onclick=\"convertToInteractive('df-170da00d-fce3-4b91-b620-700456a22ab7')\"\n",
              "              title=\"Convert this dataframe to an interactive table.\"\n",
              "              style=\"display:none;\">\n",
              "        \n",
              "  <svg xmlns=\"http://www.w3.org/2000/svg\" height=\"24px\"viewBox=\"0 0 24 24\"\n",
              "       width=\"24px\">\n",
              "    <path d=\"M0 0h24v24H0V0z\" fill=\"none\"/>\n",
              "    <path d=\"M18.56 5.44l.94 2.06.94-2.06 2.06-.94-2.06-.94-.94-2.06-.94 2.06-2.06.94zm-11 1L8.5 8.5l.94-2.06 2.06-.94-2.06-.94L8.5 2.5l-.94 2.06-2.06.94zm10 10l.94 2.06.94-2.06 2.06-.94-2.06-.94-.94-2.06-.94 2.06-2.06.94z\"/><path d=\"M17.41 7.96l-1.37-1.37c-.4-.4-.92-.59-1.43-.59-.52 0-1.04.2-1.43.59L10.3 9.45l-7.72 7.72c-.78.78-.78 2.05 0 2.83L4 21.41c.39.39.9.59 1.41.59.51 0 1.02-.2 1.41-.59l7.78-7.78 2.81-2.81c.8-.78.8-2.07 0-2.86zM5.41 20L4 18.59l7.72-7.72 1.47 1.35L5.41 20z\"/>\n",
              "  </svg>\n",
              "      </button>\n",
              "      \n",
              "  <style>\n",
              "    .colab-df-container {\n",
              "      display:flex;\n",
              "      flex-wrap:wrap;\n",
              "      gap: 12px;\n",
              "    }\n",
              "\n",
              "    .colab-df-convert {\n",
              "      background-color: #E8F0FE;\n",
              "      border: none;\n",
              "      border-radius: 50%;\n",
              "      cursor: pointer;\n",
              "      display: none;\n",
              "      fill: #1967D2;\n",
              "      height: 32px;\n",
              "      padding: 0 0 0 0;\n",
              "      width: 32px;\n",
              "    }\n",
              "\n",
              "    .colab-df-convert:hover {\n",
              "      background-color: #E2EBFA;\n",
              "      box-shadow: 0px 1px 2px rgba(60, 64, 67, 0.3), 0px 1px 3px 1px rgba(60, 64, 67, 0.15);\n",
              "      fill: #174EA6;\n",
              "    }\n",
              "\n",
              "    [theme=dark] .colab-df-convert {\n",
              "      background-color: #3B4455;\n",
              "      fill: #D2E3FC;\n",
              "    }\n",
              "\n",
              "    [theme=dark] .colab-df-convert:hover {\n",
              "      background-color: #434B5C;\n",
              "      box-shadow: 0px 1px 3px 1px rgba(0, 0, 0, 0.15);\n",
              "      filter: drop-shadow(0px 1px 2px rgba(0, 0, 0, 0.3));\n",
              "      fill: #FFFFFF;\n",
              "    }\n",
              "  </style>\n",
              "\n",
              "      <script>\n",
              "        const buttonEl =\n",
              "          document.querySelector('#df-170da00d-fce3-4b91-b620-700456a22ab7 button.colab-df-convert');\n",
              "        buttonEl.style.display =\n",
              "          google.colab.kernel.accessAllowed ? 'block' : 'none';\n",
              "\n",
              "        async function convertToInteractive(key) {\n",
              "          const element = document.querySelector('#df-170da00d-fce3-4b91-b620-700456a22ab7');\n",
              "          const dataTable =\n",
              "            await google.colab.kernel.invokeFunction('convertToInteractive',\n",
              "                                                     [key], {});\n",
              "          if (!dataTable) return;\n",
              "\n",
              "          const docLinkHtml = 'Like what you see? Visit the ' +\n",
              "            '<a target=\"_blank\" href=https://colab.research.google.com/notebooks/data_table.ipynb>data table notebook</a>'\n",
              "            + ' to learn more about interactive tables.';\n",
              "          element.innerHTML = '';\n",
              "          dataTable['output_type'] = 'display_data';\n",
              "          await google.colab.output.renderOutput(dataTable, element);\n",
              "          const docLink = document.createElement('div');\n",
              "          docLink.innerHTML = docLinkHtml;\n",
              "          element.appendChild(docLink);\n",
              "        }\n",
              "      </script>\n",
              "    </div>\n",
              "  </div>\n",
              "  "
            ]
          },
          "metadata": {},
          "execution_count": 14
        }
      ]
    },
    {
      "cell_type": "code",
      "source": [
        "test['date_depart_year'].value_counts()"
      ],
      "metadata": {
        "colab": {
          "base_uri": "https://localhost:8080/"
        },
        "id": "WRnjYRMeNy0g",
        "outputId": "f3df9a64-c096-42d0-d75d-536718978da3"
      },
      "execution_count": 15,
      "outputs": [
        {
          "output_type": "execute_result",
          "data": {
            "text/plain": [
              "2022    1182903\n",
              "Name: date_depart_year, dtype: int64"
            ]
          },
          "metadata": {},
          "execution_count": 15
        }
      ]
    },
    {
      "cell_type": "markdown",
      "source": [
        "Так как в тестовом наборе только 22 год, в фитче date_depart_year, а в обучающем наборе есть 19-22 года, то эту фитчу не будем использовать. В 19 году слишком мало данных, а 20 год мог быть аномальным из-за ковида, поэтому обучаться будем только на 21-22 годах. (обучение только на 21-22 годах показало себя лучше всего на тестовой выборке)"
      ],
      "metadata": {
        "id": "wx-hReEWN23n"
      }
    },
    {
      "cell_type": "code",
      "source": [
        "data = data[(data['date_depart_year'] != 2019) & (data['date_depart_year'] != 2020)]"
      ],
      "metadata": {
        "id": "UigCnDMiJuPJ"
      },
      "execution_count": 16,
      "outputs": []
    },
    {
      "cell_type": "markdown",
      "source": [
        "Если внимательно изучить фитчи st_code_snd и st_code_rsv, то на первый взгляд они кажутся бесполезными, но если их закодировать и использовать при обучении, то результат улучшается, но не сильно, но это все равно значит, что какую-то пользу они приносят."
      ],
      "metadata": {
        "id": "Pavo7ihBRQpz"
      }
    },
    {
      "cell_type": "markdown",
      "source": [
        "Эти фитчи состоят из комбинаций одних и тех же слов: happy, pgk, wagon, tutu, newyear, digital, hack, railway, 2022 и разделителя в виде смайлика ':)'. Поэтому было решено создать бинарные фитчи, которые показывают наличие опредленных слов в этих фитчах. (Этот подход принес колоссальный прирост по метрике и наша команда поднялась на 9 место)"
      ],
      "metadata": {
        "id": "cP091svGRueX"
      }
    },
    {
      "cell_type": "code",
      "source": [
        "data['snd_rsv'] = data['st_code_snd'] + data['st_code_rsv']"
      ],
      "metadata": {
        "id": "_Er5AAY2RrJi"
      },
      "execution_count": 17,
      "outputs": []
    },
    {
      "cell_type": "code",
      "source": [
        "new_features = ['happy', 'pgk', 'wagon', 'tutu', 'newyear', 'digital', 'hack', 'railway', '2022']"
      ],
      "metadata": {
        "id": "PEsngi4GTCfY"
      },
      "execution_count": 18,
      "outputs": []
    },
    {
      "cell_type": "code",
      "source": [
        "for i in new_features:\n",
        "  data[i] = 0"
      ],
      "metadata": {
        "id": "c9ex6Fl4TEE4"
      },
      "execution_count": 19,
      "outputs": []
    },
    {
      "cell_type": "code",
      "source": [
        "for s in new_features:\n",
        "  data[s] = data['snd_rsv'].apply(lambda x: True if s in x else False)"
      ],
      "metadata": {
        "id": "6nsrl9VtTE9C"
      },
      "execution_count": 20,
      "outputs": []
    },
    {
      "cell_type": "markdown",
      "source": [
        "Удалим ненужные для обучения фитчи."
      ],
      "metadata": {
        "id": "Mfyp05LRTNy6"
      }
    },
    {
      "cell_type": "code",
      "source": [
        "data = data.drop(['st_code_snd', 'st_code_rsv','fr_id', 'common_ch', 'vidsobst', 'snd_org_id', 'rsv_org_id', 'date_depart_year', 'snd_rsv'], axis=1).reset_index(drop=True)"
      ],
      "metadata": {
        "id": "7QTAzEn3TQjy"
      },
      "execution_count": 21,
      "outputs": []
    },
    {
      "cell_type": "code",
      "source": [
        "data.head()"
      ],
      "metadata": {
        "colab": {
          "base_uri": "https://localhost:8080/",
          "height": 0
        },
        "id": "-8zh16llTi4u",
        "outputId": "9562bcba-6cbb-4568-92e2-b5d756167372"
      },
      "execution_count": 22,
      "outputs": [
        {
          "output_type": "execute_result",
          "data": {
            "text/plain": [
              "   date_depart_month  date_depart_week  date_depart_day  date_depart_hour  \\\n",
              "0                 11                45               12                14   \n",
              "1                  4                15               17                16   \n",
              "2                  5                17                2                 7   \n",
              "3                  5                21               28                11   \n",
              "4                  1                 2               14                11   \n",
              "\n",
              "   route_type  is_load  rod  distance  snd_roadid  rsv_roadid  snd_dp_id  \\\n",
              "0         4.0        1    2     930.0          13          13         78   \n",
              "1         3.0        0    8      16.0          21          21        111   \n",
              "2         3.0        1    8     879.0           9           9         67   \n",
              "3         1.0        0    8    1021.0          23          23         10   \n",
              "4         1.0        0    8    4480.0           6           6         59   \n",
              "\n",
              "   rsv_dp_id           y  happy    pgk  wagon   tutu  newyear  digital   hack  \\\n",
              "0         75  185.200000   True  False   True   True     True     True  False   \n",
              "1        111    0.250000   True   True   True  False     True     True  False   \n",
              "2         23  109.133333   True   True  False   True    False     True  False   \n",
              "3         67   49.150000   True   True   True  False     True    False   True   \n",
              "4        111  129.400000   True   True   True   True     True    False   True   \n",
              "\n",
              "   railway   2022  \n",
              "0     True  False  \n",
              "1     True  False  \n",
              "2     True  False  \n",
              "3     True  False  \n",
              "4     True  False  "
            ],
            "text/html": [
              "\n",
              "  <div id=\"df-98ef0a05-95f0-4ad7-82ec-c775116a952c\">\n",
              "    <div class=\"colab-df-container\">\n",
              "      <div>\n",
              "<style scoped>\n",
              "    .dataframe tbody tr th:only-of-type {\n",
              "        vertical-align: middle;\n",
              "    }\n",
              "\n",
              "    .dataframe tbody tr th {\n",
              "        vertical-align: top;\n",
              "    }\n",
              "\n",
              "    .dataframe thead th {\n",
              "        text-align: right;\n",
              "    }\n",
              "</style>\n",
              "<table border=\"1\" class=\"dataframe\">\n",
              "  <thead>\n",
              "    <tr style=\"text-align: right;\">\n",
              "      <th></th>\n",
              "      <th>date_depart_month</th>\n",
              "      <th>date_depart_week</th>\n",
              "      <th>date_depart_day</th>\n",
              "      <th>date_depart_hour</th>\n",
              "      <th>route_type</th>\n",
              "      <th>is_load</th>\n",
              "      <th>rod</th>\n",
              "      <th>distance</th>\n",
              "      <th>snd_roadid</th>\n",
              "      <th>rsv_roadid</th>\n",
              "      <th>snd_dp_id</th>\n",
              "      <th>rsv_dp_id</th>\n",
              "      <th>y</th>\n",
              "      <th>happy</th>\n",
              "      <th>pgk</th>\n",
              "      <th>wagon</th>\n",
              "      <th>tutu</th>\n",
              "      <th>newyear</th>\n",
              "      <th>digital</th>\n",
              "      <th>hack</th>\n",
              "      <th>railway</th>\n",
              "      <th>2022</th>\n",
              "    </tr>\n",
              "  </thead>\n",
              "  <tbody>\n",
              "    <tr>\n",
              "      <th>0</th>\n",
              "      <td>11</td>\n",
              "      <td>45</td>\n",
              "      <td>12</td>\n",
              "      <td>14</td>\n",
              "      <td>4.0</td>\n",
              "      <td>1</td>\n",
              "      <td>2</td>\n",
              "      <td>930.0</td>\n",
              "      <td>13</td>\n",
              "      <td>13</td>\n",
              "      <td>78</td>\n",
              "      <td>75</td>\n",
              "      <td>185.200000</td>\n",
              "      <td>True</td>\n",
              "      <td>False</td>\n",
              "      <td>True</td>\n",
              "      <td>True</td>\n",
              "      <td>True</td>\n",
              "      <td>True</td>\n",
              "      <td>False</td>\n",
              "      <td>True</td>\n",
              "      <td>False</td>\n",
              "    </tr>\n",
              "    <tr>\n",
              "      <th>1</th>\n",
              "      <td>4</td>\n",
              "      <td>15</td>\n",
              "      <td>17</td>\n",
              "      <td>16</td>\n",
              "      <td>3.0</td>\n",
              "      <td>0</td>\n",
              "      <td>8</td>\n",
              "      <td>16.0</td>\n",
              "      <td>21</td>\n",
              "      <td>21</td>\n",
              "      <td>111</td>\n",
              "      <td>111</td>\n",
              "      <td>0.250000</td>\n",
              "      <td>True</td>\n",
              "      <td>True</td>\n",
              "      <td>True</td>\n",
              "      <td>False</td>\n",
              "      <td>True</td>\n",
              "      <td>True</td>\n",
              "      <td>False</td>\n",
              "      <td>True</td>\n",
              "      <td>False</td>\n",
              "    </tr>\n",
              "    <tr>\n",
              "      <th>2</th>\n",
              "      <td>5</td>\n",
              "      <td>17</td>\n",
              "      <td>2</td>\n",
              "      <td>7</td>\n",
              "      <td>3.0</td>\n",
              "      <td>1</td>\n",
              "      <td>8</td>\n",
              "      <td>879.0</td>\n",
              "      <td>9</td>\n",
              "      <td>9</td>\n",
              "      <td>67</td>\n",
              "      <td>23</td>\n",
              "      <td>109.133333</td>\n",
              "      <td>True</td>\n",
              "      <td>True</td>\n",
              "      <td>False</td>\n",
              "      <td>True</td>\n",
              "      <td>False</td>\n",
              "      <td>True</td>\n",
              "      <td>False</td>\n",
              "      <td>True</td>\n",
              "      <td>False</td>\n",
              "    </tr>\n",
              "    <tr>\n",
              "      <th>3</th>\n",
              "      <td>5</td>\n",
              "      <td>21</td>\n",
              "      <td>28</td>\n",
              "      <td>11</td>\n",
              "      <td>1.0</td>\n",
              "      <td>0</td>\n",
              "      <td>8</td>\n",
              "      <td>1021.0</td>\n",
              "      <td>23</td>\n",
              "      <td>23</td>\n",
              "      <td>10</td>\n",
              "      <td>67</td>\n",
              "      <td>49.150000</td>\n",
              "      <td>True</td>\n",
              "      <td>True</td>\n",
              "      <td>True</td>\n",
              "      <td>False</td>\n",
              "      <td>True</td>\n",
              "      <td>False</td>\n",
              "      <td>True</td>\n",
              "      <td>True</td>\n",
              "      <td>False</td>\n",
              "    </tr>\n",
              "    <tr>\n",
              "      <th>4</th>\n",
              "      <td>1</td>\n",
              "      <td>2</td>\n",
              "      <td>14</td>\n",
              "      <td>11</td>\n",
              "      <td>1.0</td>\n",
              "      <td>0</td>\n",
              "      <td>8</td>\n",
              "      <td>4480.0</td>\n",
              "      <td>6</td>\n",
              "      <td>6</td>\n",
              "      <td>59</td>\n",
              "      <td>111</td>\n",
              "      <td>129.400000</td>\n",
              "      <td>True</td>\n",
              "      <td>True</td>\n",
              "      <td>True</td>\n",
              "      <td>True</td>\n",
              "      <td>True</td>\n",
              "      <td>False</td>\n",
              "      <td>True</td>\n",
              "      <td>True</td>\n",
              "      <td>False</td>\n",
              "    </tr>\n",
              "  </tbody>\n",
              "</table>\n",
              "</div>\n",
              "      <button class=\"colab-df-convert\" onclick=\"convertToInteractive('df-98ef0a05-95f0-4ad7-82ec-c775116a952c')\"\n",
              "              title=\"Convert this dataframe to an interactive table.\"\n",
              "              style=\"display:none;\">\n",
              "        \n",
              "  <svg xmlns=\"http://www.w3.org/2000/svg\" height=\"24px\"viewBox=\"0 0 24 24\"\n",
              "       width=\"24px\">\n",
              "    <path d=\"M0 0h24v24H0V0z\" fill=\"none\"/>\n",
              "    <path d=\"M18.56 5.44l.94 2.06.94-2.06 2.06-.94-2.06-.94-.94-2.06-.94 2.06-2.06.94zm-11 1L8.5 8.5l.94-2.06 2.06-.94-2.06-.94L8.5 2.5l-.94 2.06-2.06.94zm10 10l.94 2.06.94-2.06 2.06-.94-2.06-.94-.94-2.06-.94 2.06-2.06.94z\"/><path d=\"M17.41 7.96l-1.37-1.37c-.4-.4-.92-.59-1.43-.59-.52 0-1.04.2-1.43.59L10.3 9.45l-7.72 7.72c-.78.78-.78 2.05 0 2.83L4 21.41c.39.39.9.59 1.41.59.51 0 1.02-.2 1.41-.59l7.78-7.78 2.81-2.81c.8-.78.8-2.07 0-2.86zM5.41 20L4 18.59l7.72-7.72 1.47 1.35L5.41 20z\"/>\n",
              "  </svg>\n",
              "      </button>\n",
              "      \n",
              "  <style>\n",
              "    .colab-df-container {\n",
              "      display:flex;\n",
              "      flex-wrap:wrap;\n",
              "      gap: 12px;\n",
              "    }\n",
              "\n",
              "    .colab-df-convert {\n",
              "      background-color: #E8F0FE;\n",
              "      border: none;\n",
              "      border-radius: 50%;\n",
              "      cursor: pointer;\n",
              "      display: none;\n",
              "      fill: #1967D2;\n",
              "      height: 32px;\n",
              "      padding: 0 0 0 0;\n",
              "      width: 32px;\n",
              "    }\n",
              "\n",
              "    .colab-df-convert:hover {\n",
              "      background-color: #E2EBFA;\n",
              "      box-shadow: 0px 1px 2px rgba(60, 64, 67, 0.3), 0px 1px 3px 1px rgba(60, 64, 67, 0.15);\n",
              "      fill: #174EA6;\n",
              "    }\n",
              "\n",
              "    [theme=dark] .colab-df-convert {\n",
              "      background-color: #3B4455;\n",
              "      fill: #D2E3FC;\n",
              "    }\n",
              "\n",
              "    [theme=dark] .colab-df-convert:hover {\n",
              "      background-color: #434B5C;\n",
              "      box-shadow: 0px 1px 3px 1px rgba(0, 0, 0, 0.15);\n",
              "      filter: drop-shadow(0px 1px 2px rgba(0, 0, 0, 0.3));\n",
              "      fill: #FFFFFF;\n",
              "    }\n",
              "  </style>\n",
              "\n",
              "      <script>\n",
              "        const buttonEl =\n",
              "          document.querySelector('#df-98ef0a05-95f0-4ad7-82ec-c775116a952c button.colab-df-convert');\n",
              "        buttonEl.style.display =\n",
              "          google.colab.kernel.accessAllowed ? 'block' : 'none';\n",
              "\n",
              "        async function convertToInteractive(key) {\n",
              "          const element = document.querySelector('#df-98ef0a05-95f0-4ad7-82ec-c775116a952c');\n",
              "          const dataTable =\n",
              "            await google.colab.kernel.invokeFunction('convertToInteractive',\n",
              "                                                     [key], {});\n",
              "          if (!dataTable) return;\n",
              "\n",
              "          const docLinkHtml = 'Like what you see? Visit the ' +\n",
              "            '<a target=\"_blank\" href=https://colab.research.google.com/notebooks/data_table.ipynb>data table notebook</a>'\n",
              "            + ' to learn more about interactive tables.';\n",
              "          element.innerHTML = '';\n",
              "          dataTable['output_type'] = 'display_data';\n",
              "          await google.colab.output.renderOutput(dataTable, element);\n",
              "          const docLink = document.createElement('div');\n",
              "          docLink.innerHTML = docLinkHtml;\n",
              "          element.appendChild(docLink);\n",
              "        }\n",
              "      </script>\n",
              "    </div>\n",
              "  </div>\n",
              "  "
            ]
          },
          "metadata": {},
          "execution_count": 22
        }
      ]
    },
    {
      "cell_type": "markdown",
      "source": [
        "# **EDA**"
      ],
      "metadata": {
        "id": "TAdEYnxyTzCZ"
      }
    },
    {
      "cell_type": "markdown",
      "source": [
        "Изучим фитчу date_depart_month."
      ],
      "metadata": {
        "id": "XaQZq9z05zuq"
      }
    },
    {
      "cell_type": "code",
      "source": [
        "plt.figure(figsize=(9,6))\n",
        "sns.histplot(data['date_depart_month'], bins=12, color='royalblue')\n",
        "plt.show()"
      ],
      "metadata": {
        "colab": {
          "base_uri": "https://localhost:8080/",
          "height": 394
        },
        "id": "AaHEUZ4NT0KA",
        "outputId": "07d2cbd8-fad4-4b2c-f4eb-546c97538b8a"
      },
      "execution_count": 23,
      "outputs": [
        {
          "output_type": "display_data",
          "data": {
            "text/plain": [
              "<Figure size 648x432 with 1 Axes>"
            ],
            "image/png": "[encoded data removed]"
          },
          "metadata": {}
        }
      ]
    },
    {
      "cell_type": "markdown",
      "source": [
        "Изучим фитчу date_depart_week."
      ],
      "metadata": {
        "id": "Td2h38Eo53w9"
      }
    },
    {
      "cell_type": "code",
      "source": [
        "plt.figure(figsize=(9,6))\n",
        "sns.histplot(data['date_depart_week'], bins=51, color='royalblue')\n",
        "plt.show()"
      ],
      "metadata": {
        "colab": {
          "base_uri": "https://localhost:8080/",
          "height": 0
        },
        "id": "9S12vu-YU-PR",
        "outputId": "46fad18f-234d-41f1-c4e4-6620adb43bff"
      },
      "execution_count": 24,
      "outputs": [
        {
          "output_type": "display_data",
          "data": {
            "text/plain": [
              "<Figure size 648x432 with 1 Axes>"
            ],
            "image/png": "[encoded data removed]"
          },
          "metadata": {}
        }
      ]
    },
    {
      "cell_type": "markdown",
      "source": [
        "Изучим фитчу date_depart_day."
      ],
      "metadata": {
        "id": "0OHxRtHr55fe"
      }
    },
    {
      "cell_type": "code",
      "source": [
        "plt.figure(figsize=(9,6))\n",
        "sns.histplot(data['date_depart_day'], bins=31, color='royalblue')\n",
        "plt.show()"
      ],
      "metadata": {
        "colab": {
          "base_uri": "https://localhost:8080/",
          "height": 0
        },
        "id": "qGjaZ3WokVLm",
        "outputId": "783777cd-379f-42e0-8a8d-a64bd9c686aa"
      },
      "execution_count": 25,
      "outputs": [
        {
          "output_type": "display_data",
          "data": {
            "text/plain": [
              "<Figure size 648x432 with 1 Axes>"
            ],
            "image/png": "[encoded data removed]"
          },
          "metadata": {}
        }
      ]
    },
    {
      "cell_type": "markdown",
      "source": [
        "Изучим фитчу date_depart_hour."
      ],
      "metadata": {
        "id": "2zRVETEI57Nn"
      }
    },
    {
      "cell_type": "code",
      "source": [
        "plt.figure(figsize=(9,6))\n",
        "sns.histplot(data['date_depart_hour'], bins=23, color='royalblue')\n",
        "plt.show()"
      ],
      "metadata": {
        "colab": {
          "base_uri": "https://localhost:8080/",
          "height": 0
        },
        "id": "v6EfTTUikYyI",
        "outputId": "b6c89df1-306a-4054-c968-612128126867"
      },
      "execution_count": 26,
      "outputs": [
        {
          "output_type": "display_data",
          "data": {
            "text/plain": [
              "<Figure size 648x432 with 1 Axes>"
            ],
            "image/png": "[encoded data removed]"
          },
          "metadata": {}
        }
      ]
    },
    {
      "cell_type": "markdown",
      "source": [
        "Изучим фитчу route_type."
      ],
      "metadata": {
        "id": "Y83KAerZ59Kd"
      }
    },
    {
      "cell_type": "code",
      "source": [
        "\n",
        "data['route_type'].value_counts(normalize=True).plot(kind='bar', title='route_type distribution', xlabel='classes', \n",
        "                                     ylabel='quantity', rot=1, color='orange', alpha =0.9, figsize=(9, 9))\n",
        "plt.show()"
      ],
      "metadata": {
        "colab": {
          "base_uri": "https://localhost:8080/",
          "height": 0
        },
        "id": "KjyE30DBnEzj",
        "outputId": "a2fe9b6b-6f08-4c02-c03d-74543b7abcae"
      },
      "execution_count": 27,
      "outputs": [
        {
          "output_type": "display_data",
          "data": {
            "text/plain": [
              "<Figure size 648x648 with 1 Axes>"
            ],
            "image/png": "[encoded data removed]"
          },
          "metadata": {}
        }
      ]
    },
    {
      "cell_type": "markdown",
      "source": [
        "Изучим фитчу is_load."
      ],
      "metadata": {
        "id": "DfklcynQ6M8u"
      }
    },
    {
      "cell_type": "code",
      "source": [
        "data['is_load'].value_counts(normalize=True).plot(kind='bar', title='is_load distribution', xlabel='classes', \n",
        "                                    ylabel='quantity', rot=1, color='orange', alpha =0.9, figsize=(9, 9))\n",
        "plt.show()"
      ],
      "metadata": {
        "colab": {
          "base_uri": "https://localhost:8080/",
          "height": 0
        },
        "id": "h2Fp6iAhnG6d",
        "outputId": "806b6a71-9792-405b-9b2a-fa478d39a5ec"
      },
      "execution_count": 28,
      "outputs": [
        {
          "output_type": "display_data",
          "data": {
            "text/plain": [
              "<Figure size 648x648 with 1 Axes>"
            ],
            "image/png": "[encoded data removed]"
          },
          "metadata": {}
        }
      ]
    },
    {
      "cell_type": "markdown",
      "source": [
        "Изучим фитчу rod."
      ],
      "metadata": {
        "id": "4k86w8F16VM1"
      }
    },
    {
      "cell_type": "code",
      "source": [
        "data['rod'].value_counts(normalize=True).plot(kind='bar', title='rod distribution', xlabel='classes', \n",
        "                                     ylabel='quantity', rot=1, color='orange', alpha =0.9, figsize=(9, 9))\n",
        "plt.show()"
      ],
      "metadata": {
        "colab": {
          "base_uri": "https://localhost:8080/",
          "height": 0
        },
        "id": "GOFZOK69pZSM",
        "outputId": "b6491aea-aeda-4d0a-8dac-cdfb086a9f46"
      },
      "execution_count": 29,
      "outputs": [
        {
          "output_type": "display_data",
          "data": {
            "text/plain": [
              "<Figure size 648x648 with 1 Axes>"
            ],
            "image/png": "[encoded data removed]"
          },
          "metadata": {}
        }
      ]
    },
    {
      "cell_type": "markdown",
      "source": [
        "Изучим dsitance."
      ],
      "metadata": {
        "id": "-utUvngg6Xif"
      }
    },
    {
      "cell_type": "code",
      "source": [
        "fig, (ax_hist, ax_box) = plt.subplots(2, sharex=True, gridspec_kw={\"height_ratios\": (.8, .2)}, figsize=(12, 8))\n",
        "\n",
        "sns.histplot(x=data['distance'], ax=ax_hist, color='royalblue')\n",
        "sns.boxplot(x=data['distance'], ax=ax_box, color='royalblue')\n",
        "\n",
        "ax_box.set(xlabel='distance')\n",
        "ax_hist.set(ylabel='count')\n",
        "ax_hist.set(title='train distance distribution')\n",
        "plt.show()"
      ],
      "metadata": {
        "colab": {
          "base_uri": "https://localhost:8080/",
          "height": 0
        },
        "id": "tBlu12rnpmO6",
        "outputId": "fffb49ae-cafc-4b4d-f91c-3ad2a8b6a8b7"
      },
      "execution_count": 30,
      "outputs": [
        {
          "output_type": "display_data",
          "data": {
            "text/plain": [
              "<Figure size 864x576 with 2 Axes>"
            ],
            "image/png": "[encoded data removed]"
          },
          "metadata": {}
        }
      ]
    },
    {
      "cell_type": "code",
      "source": [
        "fig, (ax_hist, ax_box) = plt.subplots(2, sharex=True, gridspec_kw={\"height_ratios\": (.8, .2)}, figsize=(12, 8))\n",
        "\n",
        "sns.histplot(x=test['distance'], ax=ax_hist, color='royalblue')\n",
        "sns.boxplot(x=test['distance'], ax=ax_box, color='royalblue')\n",
        "\n",
        "ax_box.set(xlabel='distance')\n",
        "ax_hist.set(ylabel='count')\n",
        "ax_hist.set(title='test distance distribution')\n",
        "plt.show()"
      ],
      "metadata": {
        "colab": {
          "base_uri": "https://localhost:8080/",
          "height": 0
        },
        "id": "lmCG7rGFqPSe",
        "outputId": "8cb6442c-0847-4f21-d53a-2edbb25dab32"
      },
      "execution_count": 31,
      "outputs": [
        {
          "output_type": "display_data",
          "data": {
            "text/plain": [
              "<Figure size 864x576 with 2 Axes>"
            ],
            "image/png": "[encoded data removed]"
          },
          "metadata": {}
        }
      ]
    },
    {
      "cell_type": "markdown",
      "source": [
        "Дистанция распределена экпоненциально."
      ],
      "metadata": {
        "id": "hGxdN6B_qcaq"
      }
    },
    {
      "cell_type": "markdown",
      "source": [
        "Очень много выбросов. В тесте самое большое значение не больше 14000, поэтому удалим в трейне все строки где distance > 14000."
      ],
      "metadata": {
        "id": "HH89rTr-qIbY"
      }
    },
    {
      "cell_type": "code",
      "source": [
        "data = data[data['distance'] <= 14000]"
      ],
      "metadata": {
        "id": "T2tJfeqfqaz_"
      },
      "execution_count": 32,
      "outputs": []
    },
    {
      "cell_type": "markdown",
      "source": [
        "Изучим таргет."
      ],
      "metadata": {
        "id": "xI8SL86nxFfy"
      }
    },
    {
      "cell_type": "code",
      "source": [
        "fig, (ax_hist, ax_box) = plt.subplots(2, sharex=True, gridspec_kw={\"height_ratios\": (.8, .2)}, figsize=(12, 8))\n",
        "\n",
        "sns.histplot(x=data['y'], ax=ax_hist, color='royalblue')\n",
        "sns.boxplot(x=data['y'], ax=ax_box, color='royalblue')\n",
        "\n",
        "ax_box.set(xlabel='distance')\n",
        "ax_hist.set(ylabel='count')\n",
        "ax_hist.set(title='target distribution')\n",
        "plt.show()"
      ],
      "metadata": {
        "colab": {
          "base_uri": "https://localhost:8080/",
          "height": 0
        },
        "id": "qNM3JWu1wsKL",
        "outputId": "a7aba95f-c92f-45ee-84e9-1b12fa15af73"
      },
      "execution_count": 33,
      "outputs": [
        {
          "output_type": "display_data",
          "data": {
            "text/plain": [
              "<Figure size 864x576 with 2 Axes>"
            ],
            "image/png": "[encoded data removed]"
          },
          "metadata": {}
        }
      ]
    },
    {
      "cell_type": "code",
      "source": [
        "pd.DataFrame(data['y'].describe()).T"
      ],
      "metadata": {
        "colab": {
          "base_uri": "https://localhost:8080/",
          "height": 0
        },
        "id": "uzKzzK53xJV7",
        "outputId": "e7495d94-9a72-4302-ca40-befe42148c46"
      },
      "execution_count": 34,
      "outputs": [
        {
          "output_type": "execute_result",
          "data": {
            "text/plain": [
              "       count        mean         std  min      25%        50%         75%  \\\n",
              "y  3058766.0  106.112867  121.431953  0.0  20.6425  74.516667  151.661042   \n",
              "\n",
              "       max  \n",
              "y  7853.93  "
            ],
            "text/html": [
              "\n",
              "  <div id=\"df-b0f7fae9-727a-4b6f-afa7-874b6dc23cde\">\n",
              "    <div class=\"colab-df-container\">\n",
              "      <div>\n",
              "<style scoped>\n",
              "    .dataframe tbody tr th:only-of-type {\n",
              "        vertical-align: middle;\n",
              "    }\n",
              "\n",
              "    .dataframe tbody tr th {\n",
              "        vertical-align: top;\n",
              "    }\n",
              "\n",
              "    .dataframe thead th {\n",
              "        text-align: right;\n",
              "    }\n",
              "</style>\n",
              "<table border=\"1\" class=\"dataframe\">\n",
              "  <thead>\n",
              "    <tr style=\"text-align: right;\">\n",
              "      <th></th>\n",
              "      <th>count</th>\n",
              "      <th>mean</th>\n",
              "      <th>std</th>\n",
              "      <th>min</th>\n",
              "      <th>25%</th>\n",
              "      <th>50%</th>\n",
              "      <th>75%</th>\n",
              "      <th>max</th>\n",
              "    </tr>\n",
              "  </thead>\n",
              "  <tbody>\n",
              "    <tr>\n",
              "      <th>y</th>\n",
              "      <td>3058766.0</td>\n",
              "      <td>106.112867</td>\n",
              "      <td>121.431953</td>\n",
              "      <td>0.0</td>\n",
              "      <td>20.6425</td>\n",
              "      <td>74.516667</td>\n",
              "      <td>151.661042</td>\n",
              "      <td>7853.93</td>\n",
              "    </tr>\n",
              "  </tbody>\n",
              "</table>\n",
              "</div>\n",
              "      <button class=\"colab-df-convert\" onclick=\"convertToInteractive('df-b0f7fae9-727a-4b6f-afa7-874b6dc23cde')\"\n",
              "              title=\"Convert this dataframe to an interactive table.\"\n",
              "              style=\"display:none;\">\n",
              "        \n",
              "  <svg xmlns=\"http://www.w3.org/2000/svg\" height=\"24px\"viewBox=\"0 0 24 24\"\n",
              "       width=\"24px\">\n",
              "    <path d=\"M0 0h24v24H0V0z\" fill=\"none\"/>\n",
              "    <path d=\"M18.56 5.44l.94 2.06.94-2.06 2.06-.94-2.06-.94-.94-2.06-.94 2.06-2.06.94zm-11 1L8.5 8.5l.94-2.06 2.06-.94-2.06-.94L8.5 2.5l-.94 2.06-2.06.94zm10 10l.94 2.06.94-2.06 2.06-.94-2.06-.94-.94-2.06-.94 2.06-2.06.94z\"/><path d=\"M17.41 7.96l-1.37-1.37c-.4-.4-.92-.59-1.43-.59-.52 0-1.04.2-1.43.59L10.3 9.45l-7.72 7.72c-.78.78-.78 2.05 0 2.83L4 21.41c.39.39.9.59 1.41.59.51 0 1.02-.2 1.41-.59l7.78-7.78 2.81-2.81c.8-.78.8-2.07 0-2.86zM5.41 20L4 18.59l7.72-7.72 1.47 1.35L5.41 20z\"/>\n",
              "  </svg>\n",
              "      </button>\n",
              "      \n",
              "  <style>\n",
              "    .colab-df-container {\n",
              "      display:flex;\n",
              "      flex-wrap:wrap;\n",
              "      gap: 12px;\n",
              "    }\n",
              "\n",
              "    .colab-df-convert {\n",
              "      background-color: #E8F0FE;\n",
              "      border: none;\n",
              "      border-radius: 50%;\n",
              "      cursor: pointer;\n",
              "      display: none;\n",
              "      fill: #1967D2;\n",
              "      height: 32px;\n",
              "      padding: 0 0 0 0;\n",
              "      width: 32px;\n",
              "    }\n",
              "\n",
              "    .colab-df-convert:hover {\n",
              "      background-color: #E2EBFA;\n",
              "      box-shadow: 0px 1px 2px rgba(60, 64, 67, 0.3), 0px 1px 3px 1px rgba(60, 64, 67, 0.15);\n",
              "      fill: #174EA6;\n",
              "    }\n",
              "\n",
              "    [theme=dark] .colab-df-convert {\n",
              "      background-color: #3B4455;\n",
              "      fill: #D2E3FC;\n",
              "    }\n",
              "\n",
              "    [theme=dark] .colab-df-convert:hover {\n",
              "      background-color: #434B5C;\n",
              "      box-shadow: 0px 1px 3px 1px rgba(0, 0, 0, 0.15);\n",
              "      filter: drop-shadow(0px 1px 2px rgba(0, 0, 0, 0.3));\n",
              "      fill: #FFFFFF;\n",
              "    }\n",
              "  </style>\n",
              "\n",
              "      <script>\n",
              "        const buttonEl =\n",
              "          document.querySelector('#df-b0f7fae9-727a-4b6f-afa7-874b6dc23cde button.colab-df-convert');\n",
              "        buttonEl.style.display =\n",
              "          google.colab.kernel.accessAllowed ? 'block' : 'none';\n",
              "\n",
              "        async function convertToInteractive(key) {\n",
              "          const element = document.querySelector('#df-b0f7fae9-727a-4b6f-afa7-874b6dc23cde');\n",
              "          const dataTable =\n",
              "            await google.colab.kernel.invokeFunction('convertToInteractive',\n",
              "                                                     [key], {});\n",
              "          if (!dataTable) return;\n",
              "\n",
              "          const docLinkHtml = 'Like what you see? Visit the ' +\n",
              "            '<a target=\"_blank\" href=https://colab.research.google.com/notebooks/data_table.ipynb>data table notebook</a>'\n",
              "            + ' to learn more about interactive tables.';\n",
              "          element.innerHTML = '';\n",
              "          dataTable['output_type'] = 'display_data';\n",
              "          await google.colab.output.renderOutput(dataTable, element);\n",
              "          const docLink = document.createElement('div');\n",
              "          docLink.innerHTML = docLinkHtml;\n",
              "          element.appendChild(docLink);\n",
              "        }\n",
              "      </script>\n",
              "    </div>\n",
              "  </div>\n",
              "  "
            ]
          },
          "metadata": {},
          "execution_count": 34
        }
      ]
    },
    {
      "cell_type": "markdown",
      "source": [
        "Распределение экспоненциальное. Очень много выбросов и странных значений, например 0."
      ],
      "metadata": {
        "id": "FuggCKJTxOea"
      }
    },
    {
      "cell_type": "markdown",
      "source": [
        "Как нам сказали организаторы - таргет заполнялся вручную людьми и они могли случайно ввести некорректное значение. Так как в тесте, вероятно, такая же ситуация, то ничего делать с этим не будем."
      ],
      "metadata": {
        "id": "1JeRdGJgxYlP"
      }
    },
    {
      "cell_type": "markdown",
      "source": [
        "# **Modeling**"
      ],
      "metadata": {
        "id": "SDf5QqZPsd7h"
      }
    },
    {
      "cell_type": "markdown",
      "source": [
        "Приступим к машинному обучения."
      ],
      "metadata": {
        "id": "u4UT671D6nnD"
      }
    },
    {
      "cell_type": "code",
      "source": [
        "x, y = data.drop('y', axis=1), data['y'] "
      ],
      "metadata": {
        "id": "DpQeGfn0sfQj"
      },
      "execution_count": 35,
      "outputs": []
    },
    {
      "cell_type": "code",
      "source": [
        "x.head()"
      ],
      "metadata": {
        "colab": {
          "base_uri": "https://localhost:8080/",
          "height": 206
        },
        "id": "tEWZVnvOsiSI",
        "outputId": "75270ef7-4228-4dd9-88b5-65ad2a06b6e9"
      },
      "execution_count": 36,
      "outputs": [
        {
          "output_type": "execute_result",
          "data": {
            "text/plain": [
              "   date_depart_month  date_depart_week  date_depart_day  date_depart_hour  \\\n",
              "0                 11                45               12                14   \n",
              "1                  4                15               17                16   \n",
              "2                  5                17                2                 7   \n",
              "3                  5                21               28                11   \n",
              "4                  1                 2               14                11   \n",
              "\n",
              "   route_type  is_load  rod  distance  snd_roadid  rsv_roadid  snd_dp_id  \\\n",
              "0         4.0        1    2     930.0          13          13         78   \n",
              "1         3.0        0    8      16.0          21          21        111   \n",
              "2         3.0        1    8     879.0           9           9         67   \n",
              "3         1.0        0    8    1021.0          23          23         10   \n",
              "4         1.0        0    8    4480.0           6           6         59   \n",
              "\n",
              "   rsv_dp_id  happy    pgk  wagon   tutu  newyear  digital   hack  railway  \\\n",
              "0         75   True  False   True   True     True     True  False     True   \n",
              "1        111   True   True   True  False     True     True  False     True   \n",
              "2         23   True   True  False   True    False     True  False     True   \n",
              "3         67   True   True   True  False     True    False   True     True   \n",
              "4        111   True   True   True   True     True    False   True     True   \n",
              "\n",
              "    2022  \n",
              "0  False  \n",
              "1  False  \n",
              "2  False  \n",
              "3  False  \n",
              "4  False  "
            ],
            "text/html": [
              "\n",
              "  <div id=\"df-a0c3ea1e-5479-476e-a542-787ed08b38df\">\n",
              "    <div class=\"colab-df-container\">\n",
              "      <div>\n",
              "<style scoped>\n",
              "    .dataframe tbody tr th:only-of-type {\n",
              "        vertical-align: middle;\n",
              "    }\n",
              "\n",
              "    .dataframe tbody tr th {\n",
              "        vertical-align: top;\n",
              "    }\n",
              "\n",
              "    .dataframe thead th {\n",
              "        text-align: right;\n",
              "    }\n",
              "</style>\n",
              "<table border=\"1\" class=\"dataframe\">\n",
              "  <thead>\n",
              "    <tr style=\"text-align: right;\">\n",
              "      <th></th>\n",
              "      <th>date_depart_month</th>\n",
              "      <th>date_depart_week</th>\n",
              "      <th>date_depart_day</th>\n",
              "      <th>date_depart_hour</th>\n",
              "      <th>route_type</th>\n",
              "      <th>is_load</th>\n",
              "      <th>rod</th>\n",
              "      <th>distance</th>\n",
              "      <th>snd_roadid</th>\n",
              "      <th>rsv_roadid</th>\n",
              "      <th>snd_dp_id</th>\n",
              "      <th>rsv_dp_id</th>\n",
              "      <th>happy</th>\n",
              "      <th>pgk</th>\n",
              "      <th>wagon</th>\n",
              "      <th>tutu</th>\n",
              "      <th>newyear</th>\n",
              "      <th>digital</th>\n",
              "      <th>hack</th>\n",
              "      <th>railway</th>\n",
              "      <th>2022</th>\n",
              "    </tr>\n",
              "  </thead>\n",
              "  <tbody>\n",
              "    <tr>\n",
              "      <th>0</th>\n",
              "      <td>11</td>\n",
              "      <td>45</td>\n",
              "      <td>12</td>\n",
              "      <td>14</td>\n",
              "      <td>4.0</td>\n",
              "      <td>1</td>\n",
              "      <td>2</td>\n",
              "      <td>930.0</td>\n",
              "      <td>13</td>\n",
              "      <td>13</td>\n",
              "      <td>78</td>\n",
              "      <td>75</td>\n",
              "      <td>True</td>\n",
              "      <td>False</td>\n",
              "      <td>True</td>\n",
              "      <td>True</td>\n",
              "      <td>True</td>\n",
              "      <td>True</td>\n",
              "      <td>False</td>\n",
              "      <td>True</td>\n",
              "      <td>False</td>\n",
              "    </tr>\n",
              "    <tr>\n",
              "      <th>1</th>\n",
              "      <td>4</td>\n",
              "      <td>15</td>\n",
              "      <td>17</td>\n",
              "      <td>16</td>\n",
              "      <td>3.0</td>\n",
              "      <td>0</td>\n",
              "      <td>8</td>\n",
              "      <td>16.0</td>\n",
              "      <td>21</td>\n",
              "      <td>21</td>\n",
              "      <td>111</td>\n",
              "      <td>111</td>\n",
              "      <td>True</td>\n",
              "      <td>True</td>\n",
              "      <td>True</td>\n",
              "      <td>False</td>\n",
              "      <td>True</td>\n",
              "      <td>True</td>\n",
              "      <td>False</td>\n",
              "      <td>True</td>\n",
              "      <td>False</td>\n",
              "    </tr>\n",
              "    <tr>\n",
              "      <th>2</th>\n",
              "      <td>5</td>\n",
              "      <td>17</td>\n",
              "      <td>2</td>\n",
              "      <td>7</td>\n",
              "      <td>3.0</td>\n",
              "      <td>1</td>\n",
              "      <td>8</td>\n",
              "      <td>879.0</td>\n",
              "      <td>9</td>\n",
              "      <td>9</td>\n",
              "      <td>67</td>\n",
              "      <td>23</td>\n",
              "      <td>True</td>\n",
              "      <td>True</td>\n",
              "      <td>False</td>\n",
              "      <td>True</td>\n",
              "      <td>False</td>\n",
              "      <td>True</td>\n",
              "      <td>False</td>\n",
              "      <td>True</td>\n",
              "      <td>False</td>\n",
              "    </tr>\n",
              "    <tr>\n",
              "      <th>3</th>\n",
              "      <td>5</td>\n",
              "      <td>21</td>\n",
              "      <td>28</td>\n",
              "      <td>11</td>\n",
              "      <td>1.0</td>\n",
              "      <td>0</td>\n",
              "      <td>8</td>\n",
              "      <td>1021.0</td>\n",
              "      <td>23</td>\n",
              "      <td>23</td>\n",
              "      <td>10</td>\n",
              "      <td>67</td>\n",
              "      <td>True</td>\n",
              "      <td>True</td>\n",
              "      <td>True</td>\n",
              "      <td>False</td>\n",
              "      <td>True</td>\n",
              "      <td>False</td>\n",
              "      <td>True</td>\n",
              "      <td>True</td>\n",
              "      <td>False</td>\n",
              "    </tr>\n",
              "    <tr>\n",
              "      <th>4</th>\n",
              "      <td>1</td>\n",
              "      <td>2</td>\n",
              "      <td>14</td>\n",
              "      <td>11</td>\n",
              "      <td>1.0</td>\n",
              "      <td>0</td>\n",
              "      <td>8</td>\n",
              "      <td>4480.0</td>\n",
              "      <td>6</td>\n",
              "      <td>6</td>\n",
              "      <td>59</td>\n",
              "      <td>111</td>\n",
              "      <td>True</td>\n",
              "      <td>True</td>\n",
              "      <td>True</td>\n",
              "      <td>True</td>\n",
              "      <td>True</td>\n",
              "      <td>False</td>\n",
              "      <td>True</td>\n",
              "      <td>True</td>\n",
              "      <td>False</td>\n",
              "    </tr>\n",
              "  </tbody>\n",
              "</table>\n",
              "</div>\n",
              "      <button class=\"colab-df-convert\" onclick=\"convertToInteractive('df-a0c3ea1e-5479-476e-a542-787ed08b38df')\"\n",
              "              title=\"Convert this dataframe to an interactive table.\"\n",
              "              style=\"display:none;\">\n",
              "        \n",
              "  <svg xmlns=\"http://www.w3.org/2000/svg\" height=\"24px\"viewBox=\"0 0 24 24\"\n",
              "       width=\"24px\">\n",
              "    <path d=\"M0 0h24v24H0V0z\" fill=\"none\"/>\n",
              "    <path d=\"M18.56 5.44l.94 2.06.94-2.06 2.06-.94-2.06-.94-.94-2.06-.94 2.06-2.06.94zm-11 1L8.5 8.5l.94-2.06 2.06-.94-2.06-.94L8.5 2.5l-.94 2.06-2.06.94zm10 10l.94 2.06.94-2.06 2.06-.94-2.06-.94-.94-2.06-.94 2.06-2.06.94z\"/><path d=\"M17.41 7.96l-1.37-1.37c-.4-.4-.92-.59-1.43-.59-.52 0-1.04.2-1.43.59L10.3 9.45l-7.72 7.72c-.78.78-.78 2.05 0 2.83L4 21.41c.39.39.9.59 1.41.59.51 0 1.02-.2 1.41-.59l7.78-7.78 2.81-2.81c.8-.78.8-2.07 0-2.86zM5.41 20L4 18.59l7.72-7.72 1.47 1.35L5.41 20z\"/>\n",
              "  </svg>\n",
              "      </button>\n",
              "      \n",
              "  <style>\n",
              "    .colab-df-container {\n",
              "      display:flex;\n",
              "      flex-wrap:wrap;\n",
              "      gap: 12px;\n",
              "    }\n",
              "\n",
              "    .colab-df-convert {\n",
              "      background-color: #E8F0FE;\n",
              "      border: none;\n",
              "      border-radius: 50%;\n",
              "      cursor: pointer;\n",
              "      display: none;\n",
              "      fill: #1967D2;\n",
              "      height: 32px;\n",
              "      padding: 0 0 0 0;\n",
              "      width: 32px;\n",
              "    }\n",
              "\n",
              "    .colab-df-convert:hover {\n",
              "      background-color: #E2EBFA;\n",
              "      box-shadow: 0px 1px 2px rgba(60, 64, 67, 0.3), 0px 1px 3px 1px rgba(60, 64, 67, 0.15);\n",
              "      fill: #174EA6;\n",
              "    }\n",
              "\n",
              "    [theme=dark] .colab-df-convert {\n",
              "      background-color: #3B4455;\n",
              "      fill: #D2E3FC;\n",
              "    }\n",
              "\n",
              "    [theme=dark] .colab-df-convert:hover {\n",
              "      background-color: #434B5C;\n",
              "      box-shadow: 0px 1px 3px 1px rgba(0, 0, 0, 0.15);\n",
              "      filter: drop-shadow(0px 1px 2px rgba(0, 0, 0, 0.3));\n",
              "      fill: #FFFFFF;\n",
              "    }\n",
              "  </style>\n",
              "\n",
              "      <script>\n",
              "        const buttonEl =\n",
              "          document.querySelector('#df-a0c3ea1e-5479-476e-a542-787ed08b38df button.colab-df-convert');\n",
              "        buttonEl.style.display =\n",
              "          google.colab.kernel.accessAllowed ? 'block' : 'none';\n",
              "\n",
              "        async function convertToInteractive(key) {\n",
              "          const element = document.querySelector('#df-a0c3ea1e-5479-476e-a542-787ed08b38df');\n",
              "          const dataTable =\n",
              "            await google.colab.kernel.invokeFunction('convertToInteractive',\n",
              "                                                     [key], {});\n",
              "          if (!dataTable) return;\n",
              "\n",
              "          const docLinkHtml = 'Like what you see? Visit the ' +\n",
              "            '<a target=\"_blank\" href=https://colab.research.google.com/notebooks/data_table.ipynb>data table notebook</a>'\n",
              "            + ' to learn more about interactive tables.';\n",
              "          element.innerHTML = '';\n",
              "          dataTable['output_type'] = 'display_data';\n",
              "          await google.colab.output.renderOutput(dataTable, element);\n",
              "          const docLink = document.createElement('div');\n",
              "          docLink.innerHTML = docLinkHtml;\n",
              "          element.appendChild(docLink);\n",
              "        }\n",
              "      </script>\n",
              "    </div>\n",
              "  </div>\n",
              "  "
            ]
          },
          "metadata": {},
          "execution_count": 36
        }
      ]
    },
    {
      "cell_type": "markdown",
      "source": [
        "За бейзлайн возьмем xgboost с дефолтными параметрами."
      ],
      "metadata": {
        "id": "5us8an01yN2n"
      }
    },
    {
      "cell_type": "code",
      "source": [
        "model = XGBRegressor(random_state=67, objective='reg:squarederror', tree_method=xgb_device)"
      ],
      "metadata": {
        "id": "tVCTWc23tKIZ"
      },
      "execution_count": 37,
      "outputs": []
    },
    {
      "cell_type": "code",
      "source": [
        "res = cross_val_score(model, x, y, cv=5, scoring='neg_root_mean_squared_error')\n",
        "print('mean rmse:', -res.mean())"
      ],
      "metadata": {
        "colab": {
          "base_uri": "https://localhost:8080/"
        },
        "id": "a7aZow0mtTXF",
        "outputId": "b7cc7525-58da-4085-88a4-4b87504bc6b7"
      },
      "execution_count": 38,
      "outputs": [
        {
          "output_type": "stream",
          "name": "stdout",
          "text": [
            "mean rmse: 81.78447873029748\n"
          ]
        }
      ]
    },
    {
      "cell_type": "markdown",
      "source": [
        "Создадим сетку параметров и закинем в оптюну."
      ],
      "metadata": {
        "id": "viJvqyK-yV7t"
      }
    },
    {
      "cell_type": "code",
      "source": [
        "def objective(trial):\n",
        "\n",
        "    params = {\"max_depth\": trial.suggest_int(\"max_depth\", 4, 16),\n",
        "             'learning_rate': trial.suggest_float('learning_rate', 0.001, 0.3, log=True),\n",
        "             'n_estimators': trial.suggest_int('n_estimators', 100, 1500, log=True),\n",
        "             'min_child_weight': trial.suggest_int('min_child_weight', 1, 8)\n",
        "            } \n",
        "\n",
        "    model = XGBRegressor(**params, random_state=67, objective='reg:squarederror', tree_method=xgb_device)\n",
        "\n",
        "    res = cross_val_score(model, x, y, cv=5, scoring='neg_root_mean_squared_error')\n",
        "    mean_rmse = -res.mean()\n",
        "\n",
        "    return mean_rmse"
      ],
      "metadata": {
        "id": "ASokjtBYtZpJ"
      },
      "execution_count": 39,
      "outputs": []
    },
    {
      "cell_type": "code",
      "source": [
        "sampler = optuna.samplers.TPESampler(seed=67)\n",
        "study = optuna.create_study(direction='minimize', sampler=sampler)\n",
        "study.optimize(objective, n_trials=3)"
      ],
      "metadata": {
        "colab": {
          "base_uri": "https://localhost:8080/"
        },
        "id": "RsMAX1aYtcuP",
        "outputId": "e5a9e0a6-91dc-48c7-b876-498459da08c3"
      },
      "execution_count": 40,
      "outputs": [
        {
          "output_type": "stream",
          "name": "stderr",
          "text": [
            "\u001b[32m[I 2022-12-23 13:08:26,047]\u001b[0m A new study created in memory with name: no-name-018fd2e1-38c8-4fbf-bf52-8c6557425b4a\u001b[0m\n",
            "\u001b[32m[I 2022-12-23 13:14:25,867]\u001b[0m Trial 0 finished with value: 58.251603255110226 and parameters: {'max_depth': 11, 'learning_rate': 0.13411951209051293, 'n_estimators': 640, 'min_child_weight': 3}. Best is trial 0 with value: 58.251603255110226.\u001b[0m\n",
            "\u001b[32m[I 2022-12-23 13:15:13,383]\u001b[0m Trial 1 finished with value: 89.20574780270569 and parameters: {'max_depth': 4, 'learning_rate': 0.009054342146682848, 'n_estimators': 177, 'min_child_weight': 8}. Best is trial 0 with value: 58.251603255110226.\u001b[0m\n",
            "\u001b[32m[I 2022-12-23 13:38:29,949]\u001b[0m Trial 2 finished with value: 83.06282273332849 and parameters: {'max_depth': 13, 'learning_rate': 0.00130666831722875, 'n_estimators': 924, 'min_child_weight': 5}. Best is trial 0 with value: 58.251603255110226.\u001b[0m\n"
          ]
        }
      ]
    },
    {
      "cell_type": "markdown",
      "source": [
        "За все время хакаотона в оптюне было проведено больше 250 итераций."
      ],
      "metadata": {
        "id": "4wEqJfClyamJ"
      }
    },
    {
      "cell_type": "markdown",
      "source": [
        "Для этих данных лучшими параметрами оказались:\n",
        "\n",
        "*   max_depth=13\n",
        "*   learning_rate=0.12335384066735672\n",
        "*   n_estimators=624\n",
        "*   min_child_weight=6\n",
        "\n"
      ],
      "metadata": {
        "id": "NSzEbGtlyoWx"
      }
    },
    {
      "cell_type": "markdown",
      "source": [
        "Посмотрим на результат модели с лучшими гиперпараметрами."
      ],
      "metadata": {
        "id": "fFsysul2zKlb"
      }
    },
    {
      "cell_type": "code",
      "source": [
        "model = XGBRegressor(random_state=67, objective='reg:squarederror', tree_method=xgb_device, max_depth=13,\n",
        "                     learning_rate=0.12335384066735672, n_estimators=624, min_child_weight=6)"
      ],
      "metadata": {
        "id": "IwiWPNNYwPP0"
      },
      "execution_count": 41,
      "outputs": []
    },
    {
      "cell_type": "code",
      "source": [
        "res = cross_val_score(model, x, y, cv=5, scoring='neg_root_mean_squared_error')\n",
        "print('mean rmse:', -res.mean())"
      ],
      "metadata": {
        "colab": {
          "base_uri": "https://localhost:8080/"
        },
        "id": "eJUsQ2oWwd29",
        "outputId": "bd1cfb05-ec53-482f-c712-68972277d472"
      },
      "execution_count": 42,
      "outputs": [
        {
          "output_type": "stream",
          "name": "stdout",
          "text": [
            "mean rmse: 56.907858767882985\n"
          ]
        }
      ]
    },
    {
      "cell_type": "markdown",
      "source": [
        "# **Test**"
      ],
      "metadata": {
        "id": "LjTbumgbv_we"
      }
    },
    {
      "cell_type": "markdown",
      "source": [
        "Заполнением пропусков в тесте занимался другой человек. Мы использовали хитрый способ - заполнение модой по группам через двойную группировку. Этот способ показал лучший результат. "
      ],
      "metadata": {
        "id": "OuHKMJHq2HhX"
      }
    },
    {
      "cell_type": "markdown",
      "source": [
        "Загружаем уже заполненную тестовую выборку и делаем предикты."
      ],
      "metadata": {
        "id": "TbEf7zxO28uY"
      }
    },
    {
      "cell_type": "code",
      "source": [
        "test_set = pd.read_parquet('/content/drive/MyDrive/hackwagon22/df_test_filled.parquet')"
      ],
      "metadata": {
        "id": "OLMwnk8nv_Ed"
      },
      "execution_count": 43,
      "outputs": []
    },
    {
      "cell_type": "markdown",
      "source": [
        "Создаем точно такие же бинарные фитчи в тестовом наборе."
      ],
      "metadata": {
        "id": "EDZ8CThG664n"
      }
    },
    {
      "cell_type": "code",
      "source": [
        "test_set['snd_rsv'] = test_set['st_code_snd'] + test_set['st_code_rsv']"
      ],
      "metadata": {
        "id": "OLd6jktNwl6w"
      },
      "execution_count": 44,
      "outputs": []
    },
    {
      "cell_type": "code",
      "source": [
        "for i in new_features:\n",
        "  test_set[i] = 0"
      ],
      "metadata": {
        "id": "9C8G57CIwnDk"
      },
      "execution_count": 45,
      "outputs": []
    },
    {
      "cell_type": "code",
      "source": [
        "for s in new_features:\n",
        "  test_set[s] = test_set['snd_rsv'].apply(lambda x: True if s in x else False)"
      ],
      "metadata": {
        "id": "4O5MYAX8woF_"
      },
      "execution_count": 46,
      "outputs": []
    },
    {
      "cell_type": "code",
      "source": [
        "test_set = test_set.drop(['st_code_snd', 'st_code_rsv','fr_id', 'common_ch', 'vidsobst', 'snd_org_id', \n",
        "                          'rsv_org_id', 'snd_rsv', 'test', 'date_depart_year'], axis=1)"
      ],
      "metadata": {
        "id": "VWkg-GSr0ihr"
      },
      "execution_count": 47,
      "outputs": []
    },
    {
      "cell_type": "code",
      "source": [
        "test_set.head()"
      ],
      "metadata": {
        "colab": {
          "base_uri": "https://localhost:8080/",
          "height": 206
        },
        "id": "PswgedWT1Lh0",
        "outputId": "a4ea4f39-6c05-4cce-fc1a-5491290ac1c7"
      },
      "execution_count": 48,
      "outputs": [
        {
          "output_type": "execute_result",
          "data": {
            "text/plain": [
              "   date_depart_month  date_depart_week  date_depart_day  date_depart_hour  \\\n",
              "0                  9                35                1                 9   \n",
              "1                  8                34               22                14   \n",
              "2                  5                21               26                16   \n",
              "3                 11                44                4                 4   \n",
              "4                  5                20               17                 6   \n",
              "\n",
              "   route_type  is_load  rod  distance  snd_roadid  rsv_roadid  snd_dp_id  \\\n",
              "0         3.0        0    2    2930.0          28          28        134   \n",
              "1         4.0        1    8    1728.0          18          18        102   \n",
              "2         3.0        1    8    4393.0           0           0          1   \n",
              "3         4.0        0    8    1111.0          32          32         29   \n",
              "4         3.0        0   15      19.0          29          29        117   \n",
              "\n",
              "   rsv_dp_id  happy    pgk  wagon   tutu  newyear  digital   hack  railway  \\\n",
              "0        125   True   True   True  False     True    False  False    False   \n",
              "1         16  False  False  False   True     True    False   True    False   \n",
              "2        124   True   True  False   True     True    False   True     True   \n",
              "3         31   True   True  False   True     True    False   True     True   \n",
              "4        117   True   True  False   True     True    False  False     True   \n",
              "\n",
              "    2022  \n",
              "0   True  \n",
              "1   True  \n",
              "2  False  \n",
              "3   True  \n",
              "4   True  "
            ],
            "text/html": [
              "\n",
              "  <div id=\"df-5e7fd5fe-85ce-496e-9f62-07c2f85e3eb6\">\n",
              "    <div class=\"colab-df-container\">\n",
              "      <div>\n",
              "<style scoped>\n",
              "    .dataframe tbody tr th:only-of-type {\n",
              "        vertical-align: middle;\n",
              "    }\n",
              "\n",
              "    .dataframe tbody tr th {\n",
              "        vertical-align: top;\n",
              "    }\n",
              "\n",
              "    .dataframe thead th {\n",
              "        text-align: right;\n",
              "    }\n",
              "</style>\n",
              "<table border=\"1\" class=\"dataframe\">\n",
              "  <thead>\n",
              "    <tr style=\"text-align: right;\">\n",
              "      <th></th>\n",
              "      <th>date_depart_month</th>\n",
              "      <th>date_depart_week</th>\n",
              "      <th>date_depart_day</th>\n",
              "      <th>date_depart_hour</th>\n",
              "      <th>route_type</th>\n",
              "      <th>is_load</th>\n",
              "      <th>rod</th>\n",
              "      <th>distance</th>\n",
              "      <th>snd_roadid</th>\n",
              "      <th>rsv_roadid</th>\n",
              "      <th>snd_dp_id</th>\n",
              "      <th>rsv_dp_id</th>\n",
              "      <th>happy</th>\n",
              "      <th>pgk</th>\n",
              "      <th>wagon</th>\n",
              "      <th>tutu</th>\n",
              "      <th>newyear</th>\n",
              "      <th>digital</th>\n",
              "      <th>hack</th>\n",
              "      <th>railway</th>\n",
              "      <th>2022</th>\n",
              "    </tr>\n",
              "  </thead>\n",
              "  <tbody>\n",
              "    <tr>\n",
              "      <th>0</th>\n",
              "      <td>9</td>\n",
              "      <td>35</td>\n",
              "      <td>1</td>\n",
              "      <td>9</td>\n",
              "      <td>3.0</td>\n",
              "      <td>0</td>\n",
              "      <td>2</td>\n",
              "      <td>2930.0</td>\n",
              "      <td>28</td>\n",
              "      <td>28</td>\n",
              "      <td>134</td>\n",
              "      <td>125</td>\n",
              "      <td>True</td>\n",
              "      <td>True</td>\n",
              "      <td>True</td>\n",
              "      <td>False</td>\n",
              "      <td>True</td>\n",
              "      <td>False</td>\n",
              "      <td>False</td>\n",
              "      <td>False</td>\n",
              "      <td>True</td>\n",
              "    </tr>\n",
              "    <tr>\n",
              "      <th>1</th>\n",
              "      <td>8</td>\n",
              "      <td>34</td>\n",
              "      <td>22</td>\n",
              "      <td>14</td>\n",
              "      <td>4.0</td>\n",
              "      <td>1</td>\n",
              "      <td>8</td>\n",
              "      <td>1728.0</td>\n",
              "      <td>18</td>\n",
              "      <td>18</td>\n",
              "      <td>102</td>\n",
              "      <td>16</td>\n",
              "      <td>False</td>\n",
              "      <td>False</td>\n",
              "      <td>False</td>\n",
              "      <td>True</td>\n",
              "      <td>True</td>\n",
              "      <td>False</td>\n",
              "      <td>True</td>\n",
              "      <td>False</td>\n",
              "      <td>True</td>\n",
              "    </tr>\n",
              "    <tr>\n",
              "      <th>2</th>\n",
              "      <td>5</td>\n",
              "      <td>21</td>\n",
              "      <td>26</td>\n",
              "      <td>16</td>\n",
              "      <td>3.0</td>\n",
              "      <td>1</td>\n",
              "      <td>8</td>\n",
              "      <td>4393.0</td>\n",
              "      <td>0</td>\n",
              "      <td>0</td>\n",
              "      <td>1</td>\n",
              "      <td>124</td>\n",
              "      <td>True</td>\n",
              "      <td>True</td>\n",
              "      <td>False</td>\n",
              "      <td>True</td>\n",
              "      <td>True</td>\n",
              "      <td>False</td>\n",
              "      <td>True</td>\n",
              "      <td>True</td>\n",
              "      <td>False</td>\n",
              "    </tr>\n",
              "    <tr>\n",
              "      <th>3</th>\n",
              "      <td>11</td>\n",
              "      <td>44</td>\n",
              "      <td>4</td>\n",
              "      <td>4</td>\n",
              "      <td>4.0</td>\n",
              "      <td>0</td>\n",
              "      <td>8</td>\n",
              "      <td>1111.0</td>\n",
              "      <td>32</td>\n",
              "      <td>32</td>\n",
              "      <td>29</td>\n",
              "      <td>31</td>\n",
              "      <td>True</td>\n",
              "      <td>True</td>\n",
              "      <td>False</td>\n",
              "      <td>True</td>\n",
              "      <td>True</td>\n",
              "      <td>False</td>\n",
              "      <td>True</td>\n",
              "      <td>True</td>\n",
              "      <td>True</td>\n",
              "    </tr>\n",
              "    <tr>\n",
              "      <th>4</th>\n",
              "      <td>5</td>\n",
              "      <td>20</td>\n",
              "      <td>17</td>\n",
              "      <td>6</td>\n",
              "      <td>3.0</td>\n",
              "      <td>0</td>\n",
              "      <td>15</td>\n",
              "      <td>19.0</td>\n",
              "      <td>29</td>\n",
              "      <td>29</td>\n",
              "      <td>117</td>\n",
              "      <td>117</td>\n",
              "      <td>True</td>\n",
              "      <td>True</td>\n",
              "      <td>False</td>\n",
              "      <td>True</td>\n",
              "      <td>True</td>\n",
              "      <td>False</td>\n",
              "      <td>False</td>\n",
              "      <td>True</td>\n",
              "      <td>True</td>\n",
              "    </tr>\n",
              "  </tbody>\n",
              "</table>\n",
              "</div>\n",
              "      <button class=\"colab-df-convert\" onclick=\"convertToInteractive('df-5e7fd5fe-85ce-496e-9f62-07c2f85e3eb6')\"\n",
              "              title=\"Convert this dataframe to an interactive table.\"\n",
              "              style=\"display:none;\">\n",
              "        \n",
              "  <svg xmlns=\"http://www.w3.org/2000/svg\" height=\"24px\"viewBox=\"0 0 24 24\"\n",
              "       width=\"24px\">\n",
              "    <path d=\"M0 0h24v24H0V0z\" fill=\"none\"/>\n",
              "    <path d=\"M18.56 5.44l.94 2.06.94-2.06 2.06-.94-2.06-.94-.94-2.06-.94 2.06-2.06.94zm-11 1L8.5 8.5l.94-2.06 2.06-.94-2.06-.94L8.5 2.5l-.94 2.06-2.06.94zm10 10l.94 2.06.94-2.06 2.06-.94-2.06-.94-.94-2.06-.94 2.06-2.06.94z\"/><path d=\"M17.41 7.96l-1.37-1.37c-.4-.4-.92-.59-1.43-.59-.52 0-1.04.2-1.43.59L10.3 9.45l-7.72 7.72c-.78.78-.78 2.05 0 2.83L4 21.41c.39.39.9.59 1.41.59.51 0 1.02-.2 1.41-.59l7.78-7.78 2.81-2.81c.8-.78.8-2.07 0-2.86zM5.41 20L4 18.59l7.72-7.72 1.47 1.35L5.41 20z\"/>\n",
              "  </svg>\n",
              "      </button>\n",
              "      \n",
              "  <style>\n",
              "    .colab-df-container {\n",
              "      display:flex;\n",
              "      flex-wrap:wrap;\n",
              "      gap: 12px;\n",
              "    }\n",
              "\n",
              "    .colab-df-convert {\n",
              "      background-color: #E8F0FE;\n",
              "      border: none;\n",
              "      border-radius: 50%;\n",
              "      cursor: pointer;\n",
              "      display: none;\n",
              "      fill: #1967D2;\n",
              "      height: 32px;\n",
              "      padding: 0 0 0 0;\n",
              "      width: 32px;\n",
              "    }\n",
              "\n",
              "    .colab-df-convert:hover {\n",
              "      background-color: #E2EBFA;\n",
              "      box-shadow: 0px 1px 2px rgba(60, 64, 67, 0.3), 0px 1px 3px 1px rgba(60, 64, 67, 0.15);\n",
              "      fill: #174EA6;\n",
              "    }\n",
              "\n",
              "    [theme=dark] .colab-df-convert {\n",
              "      background-color: #3B4455;\n",
              "      fill: #D2E3FC;\n",
              "    }\n",
              "\n",
              "    [theme=dark] .colab-df-convert:hover {\n",
              "      background-color: #434B5C;\n",
              "      box-shadow: 0px 1px 3px 1px rgba(0, 0, 0, 0.15);\n",
              "      filter: drop-shadow(0px 1px 2px rgba(0, 0, 0, 0.3));\n",
              "      fill: #FFFFFF;\n",
              "    }\n",
              "  </style>\n",
              "\n",
              "      <script>\n",
              "        const buttonEl =\n",
              "          document.querySelector('#df-5e7fd5fe-85ce-496e-9f62-07c2f85e3eb6 button.colab-df-convert');\n",
              "        buttonEl.style.display =\n",
              "          google.colab.kernel.accessAllowed ? 'block' : 'none';\n",
              "\n",
              "        async function convertToInteractive(key) {\n",
              "          const element = document.querySelector('#df-5e7fd5fe-85ce-496e-9f62-07c2f85e3eb6');\n",
              "          const dataTable =\n",
              "            await google.colab.kernel.invokeFunction('convertToInteractive',\n",
              "                                                     [key], {});\n",
              "          if (!dataTable) return;\n",
              "\n",
              "          const docLinkHtml = 'Like what you see? Visit the ' +\n",
              "            '<a target=\"_blank\" href=https://colab.research.google.com/notebooks/data_table.ipynb>data table notebook</a>'\n",
              "            + ' to learn more about interactive tables.';\n",
              "          element.innerHTML = '';\n",
              "          dataTable['output_type'] = 'display_data';\n",
              "          await google.colab.output.renderOutput(dataTable, element);\n",
              "          const docLink = document.createElement('div');\n",
              "          docLink.innerHTML = docLinkHtml;\n",
              "          element.appendChild(docLink);\n",
              "        }\n",
              "      </script>\n",
              "    </div>\n",
              "  </div>\n",
              "  "
            ]
          },
          "metadata": {},
          "execution_count": 48
        }
      ]
    },
    {
      "cell_type": "code",
      "source": [
        "model.fit(x, y)"
      ],
      "metadata": {
        "colab": {
          "base_uri": "https://localhost:8080/"
        },
        "id": "7dhPZAWyF1x3",
        "outputId": "7b83b76c-3609-436f-d604-34f4ead3137b"
      },
      "execution_count": 49,
      "outputs": [
        {
          "output_type": "execute_result",
          "data": {
            "text/plain": [
              "XGBRegressor(learning_rate=0.12335384066735672, max_depth=13,\n",
              "             min_child_weight=6, n_estimators=624, objective='reg:squarederror',\n",
              "             random_state=67, tree_method='gpu_hist')"
            ]
          },
          "metadata": {},
          "execution_count": 49
        }
      ]
    },
    {
      "cell_type": "code",
      "source": [
        "predicts = model.predict(test_set)"
      ],
      "metadata": {
        "id": "F47ZScXt1M3H"
      },
      "execution_count": 50,
      "outputs": []
    },
    {
      "cell_type": "code",
      "source": [
        "time = pd.Series(predicts, name='time')"
      ],
      "metadata": {
        "id": "2dVsJ7Cn1OAL"
      },
      "execution_count": 51,
      "outputs": []
    },
    {
      "cell_type": "code",
      "source": [
        "time[time < 0]"
      ],
      "metadata": {
        "colab": {
          "base_uri": "https://localhost:8080/"
        },
        "id": "QOQLR9t21PeJ",
        "outputId": "149af579-9429-4acb-bedb-772cfbd34665"
      },
      "execution_count": 52,
      "outputs": [
        {
          "output_type": "execute_result",
          "data": {
            "text/plain": [
              "25         -0.263484\n",
              "41        -12.946443\n",
              "231        -0.583887\n",
              "263        -0.664273\n",
              "310        -0.906949\n",
              "             ...    \n",
              "1182681    -0.899317\n",
              "1182701    -0.143145\n",
              "1182731    -5.898276\n",
              "1182744    -1.244939\n",
              "1182769    -2.999120\n",
              "Name: time, Length: 32612, dtype: float32"
            ]
          },
          "metadata": {},
          "execution_count": 52
        }
      ]
    },
    {
      "cell_type": "markdown",
      "source": [
        "Как оказалось, есть довольно много отрицательных значений, что не может быть в реальности. Для заполнения таких значений было протестировано множество вариантов. Лучшим оказалось значение 0.25."
      ],
      "metadata": {
        "id": "FTXjJYQ03Cpg"
      }
    },
    {
      "cell_type": "code",
      "source": [
        "time[time < 0] = 0.25"
      ],
      "metadata": {
        "id": "SbmkqzPQ1RNO"
      },
      "execution_count": 53,
      "outputs": []
    },
    {
      "cell_type": "markdown",
      "source": [
        "Скачиваем csv файл с предиктами и отправляем сабмит на сервер."
      ],
      "metadata": {
        "id": "PkwBBItF3T4S"
      }
    },
    {
      "cell_type": "code",
      "source": [
        "time.to_csv('time.csv', index=False)"
      ],
      "metadata": {
        "id": "QMuLE4tH1Scn"
      },
      "execution_count": 54,
      "outputs": []
    }
  ]
}